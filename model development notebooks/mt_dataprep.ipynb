{
 "cells": [
  {
   "cell_type": "code",
   "execution_count": 1,
   "id": "861216b2-a86c-4ffc-86dc-fc7f4d2beccf",
   "metadata": {
    "tags": []
   },
   "outputs": [],
   "source": [
    "import pandas as pd\n",
    "import numpy as np\n",
    "from functools import reduce\n",
    "import matplotlib.pyplot as plt\n",
    "import seaborn as sns\n",
    "# import pyspark\n",
    "import json\n",
    "import ast\n",
    "import boto3\n",
    "from sagemaker import get_execution_role\n",
    "from sklearn.model_selection import train_test_split\n",
    "from sklearn.preprocessing import StandardScaler\n",
    "from sklearn.decomposition import PCA\n",
    "\n",
    "from IPython.display import clear_output"
   ]
  },
  {
   "cell_type": "code",
   "execution_count": 2,
   "id": "d4a0eed4-c894-405f-aca0-259c9c3da6a8",
   "metadata": {
    "tags": []
   },
   "outputs": [],
   "source": [
    "role = get_execution_role()\n",
    "bucket='sagemaker-us-east-1-770526846351'"
   ]
  },
  {
   "cell_type": "markdown",
   "id": "859a9539-ec16-41ec-9186-9b2008c42f3b",
   "metadata": {},
   "source": [
    "IMPORT INVESTORS DATA FROM s3"
   ]
  },
  {
   "cell_type": "code",
   "execution_count": 3,
   "id": "46c371fe-ad6f-4be2-a979-bf1237a5c448",
   "metadata": {},
   "outputs": [],
   "source": [
    "# data_key = 'investor.csv'\n",
    "# data_location = 's3://{}/{}'.format(bucket, data_key)\n",
    "# df_investor = pd.read_csv(data_location)"
   ]
  },
  {
   "cell_type": "markdown",
   "id": "5a83e160-7666-4396-8947-38bd668ce934",
   "metadata": {},
   "source": [
    "DATA CLEANING/IMPUTATION"
   ]
  },
  {
   "cell_type": "code",
   "execution_count": 4,
   "id": "35f3b527-8654-48bb-93f0-776e7a0e64d2",
   "metadata": {
    "tags": []
   },
   "outputs": [],
   "source": [
    "# def unpack(dict_str, key):\n",
    "#     try:\n",
    "#         as_dict = ast.literal_eval(dict_str)\n",
    "#     except:\n",
    "#         return np.nan\n",
    "#     if not key in as_dict.keys():\n",
    "#         return np.nan\n",
    "#     return as_dict[key]"
   ]
  },
  {
   "cell_type": "code",
   "execution_count": 5,
   "id": "bdb2ca35-47e7-464a-84f2-b99807781e7a",
   "metadata": {
    "tags": []
   },
   "outputs": [],
   "source": [
    "# # extract values from situs dict\n",
    "\n",
    "# df_investor['zip'] = df_investor['situs'].apply(lambda x: unpack(x, 'zip'))\n",
    "# df_investor['state'] = df_investor['situs'].apply(lambda x: unpack(x, 'state'))"
   ]
  },
  {
   "cell_type": "code",
   "execution_count": 6,
   "id": "f2c09196-904a-4daa-8c79-46aeaf8f45ea",
   "metadata": {
    "tags": []
   },
   "outputs": [],
   "source": [
    "# # drop rows where state, zip, buyerId, propertyType is null & not worth imputing.\n",
    "\n",
    "# df_investor = df_investor[df_investor['state'].notna()]\n",
    "# df_investor = df_investor[df_investor['zip'].notna()]\n",
    "# df_investor = df_investor[df_investor['buyerId'].notna()]\n",
    "# df_investor = df_investor[df_investor['propertyType'].notna()]"
   ]
  },
  {
   "cell_type": "code",
   "execution_count": 7,
   "id": "0ad9789a-4601-4b69-b250-0469604b186f",
   "metadata": {
    "tags": []
   },
   "outputs": [
    {
     "data": {
      "text/plain": [
       "purchasePrice    895427\n",
       "sqft             486935\n",
       "value             18627\n",
       "purchaseDate        550\n",
       "dtype: int64"
      ]
     },
     "execution_count": 7,
     "metadata": {},
     "output_type": "execute_result"
    }
   ],
   "source": [
    "# # check nulls\n",
    "\n",
    "# df_investor.isnull().sum()[df_investor.isnull().sum() > 0].sort_values(ascending=False)"
   ]
  },
  {
   "cell_type": "code",
   "execution_count": 8,
   "id": "84418e86-d559-4df9-b9c1-7b40486b98fb",
   "metadata": {
    "tags": []
   },
   "outputs": [],
   "source": [
    "# # calculate median of purchasePrice for non-null records\n",
    "\n",
    "# df_investor_pp = df_investor[df_investor['purchasePrice'].notna()]\n",
    "# pp = df_investor_pp.groupby(['zip', 'propertyType'])['purchasePrice'].median().reset_index(name='med_pp')"
   ]
  },
  {
   "cell_type": "code",
   "execution_count": 9,
   "id": "e6589e41-0bcf-4e11-9cdb-9d585e05d445",
   "metadata": {
    "tags": []
   },
   "outputs": [],
   "source": [
    "# # calculate median of sqft for non-null records\n",
    "\n",
    "# df_investor_sqft = df_investor[df_investor['sqft'].notna()]\n",
    "# sqft = df_investor_sqft.groupby(['zip', 'propertyType'])['sqft'].median().reset_index(name='med_sqft')"
   ]
  },
  {
   "cell_type": "code",
   "execution_count": 10,
   "id": "26a1dbaa-d8c9-4590-8872-9ca81463cd13",
   "metadata": {
    "tags": []
   },
   "outputs": [],
   "source": [
    "# # calculate median of value for non-null records\n",
    "\n",
    "# df_investor_val = df_investor[df_investor['value'].notna()]\n",
    "# val = df_investor_val.groupby(['zip', 'propertyType'])['value'].median().reset_index(name='med_val')"
   ]
  },
  {
   "cell_type": "code",
   "execution_count": 11,
   "id": "a6c5182b-8a0d-404f-bf6d-540de0fc1595",
   "metadata": {
    "tags": []
   },
   "outputs": [],
   "source": [
    "# # join medians back to original df\n",
    "\n",
    "# dfs = [df_investor, pp, sqft, val]\n",
    "\n",
    "# df_investor = reduce(lambda left,right: pd.merge(left,right,on=['zip', 'propertyType'], how='inner'), dfs)"
   ]
  },
  {
   "cell_type": "code",
   "execution_count": 13,
   "id": "669a3697-b1c1-4792-822a-a1aafd68ae8f",
   "metadata": {
    "tags": []
   },
   "outputs": [],
   "source": [
    "# # replace null purchasePrice, sqft, value with median values\n",
    "\n",
    "# df_investor['purchasePrice'] = df_investor['purchasePrice'].fillna(df_investor['med_pp'])\n",
    "# df_investor['sqft'] = df_investor['sqft'].fillna(df_investor['med_sqft'])\n",
    "# df_investor['value'] = df_investor['value'].fillna(df_investor['med_val'])"
   ]
  },
  {
   "cell_type": "code",
   "execution_count": 14,
   "id": "4a035ec5-8e99-414c-b6d4-49890ac6f0b1",
   "metadata": {},
   "outputs": [],
   "source": [
    "# df_investor['pricePerSqft'] = df_investor['purchasePrice']/df_investor['sqft']\n",
    "# df_investor['valuePerSqft'] = df_investor['value']/df_investor['sqft']"
   ]
  },
  {
   "cell_type": "code",
   "execution_count": 15,
   "id": "785ffa07-8c6a-434b-9df3-0f4122fa46ad",
   "metadata": {
    "tags": []
   },
   "outputs": [],
   "source": [
    "# # get list of investors with >= 10 transactions (filtering out small transactions + addressing cold start problem)\n",
    "\n",
    "# investors = df_investor.groupby(['buyerId'])['buyerId'].count().reset_index(name='txn_count').sort_values(['txn_count'], ascending=False) \n",
    "# investors = investors[investors['txn_count'] >= 10] "
   ]
  },
  {
   "cell_type": "code",
   "execution_count": 16,
   "id": "3a897596-a5c2-4c04-95ae-7f95643b4737",
   "metadata": {
    "tags": []
   },
   "outputs": [],
   "source": [
    "# # filter df_investors to include investor swith >= 10 transactions\n",
    "\n",
    "# base = pd.merge(df_investor, investors, on=['buyerId'], how='inner')"
   ]
  },
  {
   "cell_type": "code",
   "execution_count": 2,
   "id": "35b7c925-5c86-4787-8566-ce819ec66e60",
   "metadata": {
    "tags": []
   },
   "outputs": [],
   "source": [
    "# base['state'].value_counts()"
   ]
  },
  {
   "cell_type": "code",
   "execution_count": 17,
   "id": "e7dee4a7-33bb-44f2-89df-29417f640204",
   "metadata": {
    "tags": []
   },
   "outputs": [],
   "source": [
    "# # save to csvs\n",
    "\n",
    "# investors.to_csv('s3://{}/{}'.format(bucket, 'investor_txns.csv'))\n",
    "\n",
    "# base.to_csv('s3://{}/{}'.format(bucket, 'investor_filtered_cleaned.csv'))"
   ]
  },
  {
   "cell_type": "markdown",
   "id": "fcfd5a44-b762-4cd3-8f50-a9bb6080471a",
   "metadata": {
    "tags": []
   },
   "source": [
    "LOAD IN CLEANED INVESTORS DATA FROM s3"
   ]
  },
  {
   "cell_type": "code",
   "execution_count": 18,
   "id": "2eee0c3d-de01-41e0-8027-fe44ad990532",
   "metadata": {
    "tags": []
   },
   "outputs": [],
   "source": [
    "# # read in cleaned df_investor data from s3 to ease memory usage\n",
    "\n",
    "# df_investor_location = 's3://{}/{}'.format(bucket, 'investor_filtered_cleaned.csv')\n",
    "\n",
    "# df_investor = pd.read_csv(df_investor_location)"
   ]
  },
  {
   "cell_type": "markdown",
   "id": "56e41b03-0c3b-42f4-ae3a-46cdd2fea325",
   "metadata": {},
   "source": [
    "SPLIT DATA INTO STRATIFIED TRAIN/TEST"
   ]
  },
  {
   "cell_type": "code",
   "execution_count": 19,
   "id": "21f5110c-8dbd-4aaa-8bf2-ed1438d74406",
   "metadata": {
    "tags": []
   },
   "outputs": [],
   "source": [
    "# # create 10% stratified sample based off 'state', 'propertyType', 'fundingSource', 'investmentType'\n",
    "\n",
    "# df_investor_test = df_investor \\\n",
    "# .groupby(['state', 'propertyType', 'fundingSource', 'investmentType'], group_keys=False) \\\n",
    "# .apply(lambda x: x.sample(frac=0.1))"
   ]
  },
  {
   "cell_type": "code",
   "execution_count": 20,
   "id": "73023947-1c08-4f37-937e-a1341516f183",
   "metadata": {
    "tags": []
   },
   "outputs": [],
   "source": [
    "# # set test group to 1\n",
    "\n",
    "# df_investor_test['test'] = 1"
   ]
  },
  {
   "cell_type": "code",
   "execution_count": 21,
   "id": "14d33ec5-e17c-4f25-9520-a0278eba2cdb",
   "metadata": {
    "tags": []
   },
   "outputs": [],
   "source": [
    "# # left join to identify train/test\n",
    "\n",
    "# df_investor = pd.merge(df_investor, df_investor_test[['id', 'test']], on=['id'], how='left')"
   ]
  },
  {
   "cell_type": "code",
   "execution_count": 22,
   "id": "38608090-91bc-4467-b7b9-2b815b8eb15e",
   "metadata": {
    "tags": []
   },
   "outputs": [],
   "source": [
    "# # set train group as 0\n",
    "\n",
    "# df_investor['test'] = df_investor['test'].fillna(0)"
   ]
  },
  {
   "cell_type": "code",
   "execution_count": 23,
   "id": "3ab58b98-32b1-41a2-98e0-b33ce1102b83",
   "metadata": {
    "tags": []
   },
   "outputs": [],
   "source": [
    "# # drop unnecessary columns\n",
    "\n",
    "# df_investor = df_investor.drop(['Unnamed: 0', 'Unnamed: 0.1'], axis=1)"
   ]
  },
  {
   "cell_type": "code",
   "execution_count": 24,
   "id": "748bce86-ea80-4bd3-93d7-353ccf5f77a2",
   "metadata": {
    "tags": []
   },
   "outputs": [],
   "source": [
    "# # split df_investor out into train/test\n",
    "\n",
    "# train = df_investor[df_investor['test'] == 0]\n",
    "# test = df_investor[df_investor['test'] == 1]"
   ]
  },
  {
   "cell_type": "code",
   "execution_count": 25,
   "id": "68dbfed8-25b2-4475-91b7-5d15666077d6",
   "metadata": {
    "tags": []
   },
   "outputs": [],
   "source": [
    "# # write train/test sets to s3 as csv\n",
    "\n",
    "# train.to_csv('s3://{}/{}'.format(bucket, 'train.csv'))\n",
    "# test.to_csv('s3://{}/{}'.format(bucket, 'test.csv'))"
   ]
  },
  {
   "cell_type": "markdown",
   "id": "b6c69e52-9ad6-495a-b214-fe1638b7a8a2",
   "metadata": {
    "tags": []
   },
   "source": [
    "CREATE MEDIAN MAPPINGS"
   ]
  },
  {
   "cell_type": "code",
   "execution_count": 26,
   "id": "e08b2057-4124-4150-9157-2a0507b9e107",
   "metadata": {
    "tags": []
   },
   "outputs": [],
   "source": [
    "# med_pps = df_investor.groupby(['buyerId'])['pricePerSqft'].median().reset_index(name='med_pps')\n",
    "# med_vps = df_investor.groupby(['buyerId'])['valuePerSqft'].median().reset_index(name='med_vps')\n",
    "# med_sqft = df_investor.groupby(['buyerId'])['sqft'].median().reset_index(name='med_sqft')\n",
    "# med_val = df_investor.groupby(['buyerId'])['value'].median().reset_index(name='med_val')\n",
    "# med_pp = df_investor.groupby(['buyerId'])['purchasePrice'].median().reset_index(name='med_pp')\n",
    "\n",
    "# med_pps.to_csv('s3://{}/{}'.format(bucket, 'med_pps.csv'))\n",
    "# med_vps.to_csv('s3://{}/{}'.format(bucket, 'med_vps.csv'))\n",
    "# med_sqft.to_csv('s3://{}/{}'.format(bucket, 'med_sqft.csv'))\n",
    "# med_val.to_csv('s3://{}/{}'.format(bucket, 'med_val.csv'))\n",
    "# med_pp.to_csv('s3://{}/{}'.format(bucket, 'med_pp.csv'))"
   ]
  },
  {
   "cell_type": "code",
   "execution_count": null,
   "id": "78cbe861-56be-46c3-94f9-cebb34fdbf0c",
   "metadata": {},
   "outputs": [],
   "source": []
  },
  {
   "cell_type": "markdown",
   "id": "5bbe1f21-d6c2-46b3-94a7-7568bf439c12",
   "metadata": {},
   "source": [
    "LOAD IN TRAIN/TEST DATA FROM s3"
   ]
  },
  {
   "cell_type": "code",
   "execution_count": 27,
   "id": "67d9d735-8c8f-4437-8d72-3e902bbeb3ed",
   "metadata": {},
   "outputs": [],
   "source": [
    "train_location = 's3://{}/{}'.format(bucket, 'train.csv')\n",
    "test_location = 's3://{}/{}'.format(bucket, 'test.csv')\n",
    "\n",
    "df_train = pd.read_csv(train_location)\n",
    "df_test = pd.read_csv(test_location)"
   ]
  },
  {
   "cell_type": "code",
   "execution_count": 40,
   "id": "048b130d-32e8-4ddf-95d7-3efc5e7eba47",
   "metadata": {},
   "outputs": [],
   "source": [
    "df_investor = pd.concat([df_train, df_test])"
   ]
  },
  {
   "cell_type": "markdown",
   "id": "a91e33b3-6734-4670-94fe-6349b622a39a",
   "metadata": {},
   "source": [
    "TRANSACTION SIMILARITY TRANSFORMATIONS"
   ]
  },
  {
   "cell_type": "code",
   "execution_count": 18,
   "id": "864dd73e-5425-43ee-82cd-240a4da50908",
   "metadata": {
    "tags": []
   },
   "outputs": [],
   "source": [
    "# df_investor['state'].value_counts()"
   ]
  },
  {
   "cell_type": "code",
   "execution_count": 36,
   "id": "8da86ad5-87ee-458e-b870-2d2cf52fe032",
   "metadata": {
    "tags": []
   },
   "outputs": [
    {
     "data": {
      "text/html": [
       "<div>\n",
       "<style scoped>\n",
       "    .dataframe tbody tr th:only-of-type {\n",
       "        vertical-align: middle;\n",
       "    }\n",
       "\n",
       "    .dataframe tbody tr th {\n",
       "        vertical-align: top;\n",
       "    }\n",
       "\n",
       "    .dataframe thead th {\n",
       "        text-align: right;\n",
       "    }\n",
       "</style>\n",
       "<table border=\"1\" class=\"dataframe\">\n",
       "  <thead>\n",
       "    <tr style=\"text-align: right;\">\n",
       "      <th></th>\n",
       "      <th>Unnamed: 0</th>\n",
       "      <th>id</th>\n",
       "      <th>buyerId</th>\n",
       "      <th>importDate</th>\n",
       "      <th>taxId</th>\n",
       "      <th>mailId</th>\n",
       "      <th>name</th>\n",
       "      <th>hasPhone</th>\n",
       "      <th>hasEmail</th>\n",
       "      <th>isEntity</th>\n",
       "      <th>...</th>\n",
       "      <th>propertyType</th>\n",
       "      <th>zip</th>\n",
       "      <th>state</th>\n",
       "      <th>med_pp</th>\n",
       "      <th>med_sqft</th>\n",
       "      <th>med_val</th>\n",
       "      <th>pricePerSqft</th>\n",
       "      <th>valuePerSqft</th>\n",
       "      <th>txn_count</th>\n",
       "      <th>test</th>\n",
       "    </tr>\n",
       "  </thead>\n",
       "  <tbody>\n",
       "    <tr>\n",
       "      <th>19225</th>\n",
       "      <td>21421</td>\n",
       "      <td>11001-20220819-308-1</td>\n",
       "      <td>c08e119533785c7ab76fe7aaf36a9523</td>\n",
       "      <td>20220824</td>\n",
       "      <td>1-11001-5869    1134</td>\n",
       "      <td>9983978732a12527af9bace4ca3227a8</td>\n",
       "      <td>EK REAL ESTATE FUND I LLC</td>\n",
       "      <td>True</td>\n",
       "      <td>False</td>\n",
       "      <td>True</td>\n",
       "      <td>...</td>\n",
       "      <td>Residential</td>\n",
       "      <td>20020</td>\n",
       "      <td>DC</td>\n",
       "      <td>235000.0</td>\n",
       "      <td>1024.0</td>\n",
       "      <td>345595.0</td>\n",
       "      <td>370.192308</td>\n",
       "      <td>393.020833</td>\n",
       "      <td>209</td>\n",
       "      <td>0.0</td>\n",
       "    </tr>\n",
       "    <tr>\n",
       "      <th>19861</th>\n",
       "      <td>22127</td>\n",
       "      <td>11001-20181126-212-0</td>\n",
       "      <td>18d85db28e29dbb982592799024e2d7a</td>\n",
       "      <td>20190410</td>\n",
       "      <td>1-11001-5084    2012</td>\n",
       "      <td>b76c230eb72acb5f7dac62436b897a87</td>\n",
       "      <td>MTGLQ INVTRS LP</td>\n",
       "      <td>True</td>\n",
       "      <td>False</td>\n",
       "      <td>True</td>\n",
       "      <td>...</td>\n",
       "      <td>Residential</td>\n",
       "      <td>20019</td>\n",
       "      <td>DC</td>\n",
       "      <td>230000.0</td>\n",
       "      <td>1024.0</td>\n",
       "      <td>388430.0</td>\n",
       "      <td>101.049869</td>\n",
       "      <td>177.440945</td>\n",
       "      <td>168</td>\n",
       "      <td>0.0</td>\n",
       "    </tr>\n",
       "    <tr>\n",
       "      <th>29020</th>\n",
       "      <td>32305</td>\n",
       "      <td>11001-20190513-64-0</td>\n",
       "      <td>c9bf824511a49c2ddd62d03e9d2c35e7</td>\n",
       "      <td>20200212</td>\n",
       "      <td>1-11001-5292    0082</td>\n",
       "      <td>185f5bfcf650ca090da454531c1a2896</td>\n",
       "      <td>HILLDALE TRUST</td>\n",
       "      <td>True</td>\n",
       "      <td>False</td>\n",
       "      <td>False</td>\n",
       "      <td>...</td>\n",
       "      <td>Residential</td>\n",
       "      <td>20019</td>\n",
       "      <td>DC</td>\n",
       "      <td>230000.0</td>\n",
       "      <td>1024.0</td>\n",
       "      <td>388430.0</td>\n",
       "      <td>230.230000</td>\n",
       "      <td>427.062500</td>\n",
       "      <td>28</td>\n",
       "      <td>0.0</td>\n",
       "    </tr>\n",
       "    <tr>\n",
       "      <th>29304</th>\n",
       "      <td>32620</td>\n",
       "      <td>11001-20210920-371-0</td>\n",
       "      <td>d4bdfc75dbd54acaa38f3aeb2471f142</td>\n",
       "      <td>20210922</td>\n",
       "      <td>1-11001-5538    0081</td>\n",
       "      <td>e8aaa1c5de269060f28858d8a03c3bf9</td>\n",
       "      <td>EK REAL ESTATE FUND I LLC</td>\n",
       "      <td>True</td>\n",
       "      <td>False</td>\n",
       "      <td>True</td>\n",
       "      <td>...</td>\n",
       "      <td>Residential</td>\n",
       "      <td>20020</td>\n",
       "      <td>DC</td>\n",
       "      <td>235000.0</td>\n",
       "      <td>1024.0</td>\n",
       "      <td>345595.0</td>\n",
       "      <td>549.450549</td>\n",
       "      <td>458.360806</td>\n",
       "      <td>196</td>\n",
       "      <td>0.0</td>\n",
       "    </tr>\n",
       "    <tr>\n",
       "      <th>70032</th>\n",
       "      <td>77829</td>\n",
       "      <td>11001-20180621-264-0</td>\n",
       "      <td>18d6b55172d43bba8b7a19cf64caa3fa</td>\n",
       "      <td>20201125</td>\n",
       "      <td>1-11001-5881    0050</td>\n",
       "      <td>de919b76f429197b802d4e3eb087e57d</td>\n",
       "      <td>DIPLOMAT PROPERTY MANAGER LLC</td>\n",
       "      <td>True</td>\n",
       "      <td>False</td>\n",
       "      <td>True</td>\n",
       "      <td>...</td>\n",
       "      <td>Residential</td>\n",
       "      <td>20020</td>\n",
       "      <td>DC</td>\n",
       "      <td>235000.0</td>\n",
       "      <td>1024.0</td>\n",
       "      <td>345595.0</td>\n",
       "      <td>139.000000</td>\n",
       "      <td>276.316176</td>\n",
       "      <td>26</td>\n",
       "      <td>0.0</td>\n",
       "    </tr>\n",
       "    <tr>\n",
       "      <th>...</th>\n",
       "      <td>...</td>\n",
       "      <td>...</td>\n",
       "      <td>...</td>\n",
       "      <td>...</td>\n",
       "      <td>...</td>\n",
       "      <td>...</td>\n",
       "      <td>...</td>\n",
       "      <td>...</td>\n",
       "      <td>...</td>\n",
       "      <td>...</td>\n",
       "      <td>...</td>\n",
       "      <td>...</td>\n",
       "      <td>...</td>\n",
       "      <td>...</td>\n",
       "      <td>...</td>\n",
       "      <td>...</td>\n",
       "      <td>...</td>\n",
       "      <td>...</td>\n",
       "      <td>...</td>\n",
       "      <td>...</td>\n",
       "      <td>...</td>\n",
       "    </tr>\n",
       "    <tr>\n",
       "      <th>52906</th>\n",
       "      <td>528680</td>\n",
       "      <td>11001-20200111-504-0</td>\n",
       "      <td>c5ba940f6cbc5cb5e8339c541d4a13c1</td>\n",
       "      <td>20201021</td>\n",
       "      <td>1-11001-2868    0080</td>\n",
       "      <td>e26b7500b88c63559f7b0ba2c7ed742c</td>\n",
       "      <td>DILAN INVESTMENT LLC</td>\n",
       "      <td>True</td>\n",
       "      <td>False</td>\n",
       "      <td>True</td>\n",
       "      <td>...</td>\n",
       "      <td>Residential</td>\n",
       "      <td>20009</td>\n",
       "      <td>DC</td>\n",
       "      <td>670079.0</td>\n",
       "      <td>988.0</td>\n",
       "      <td>656770.0</td>\n",
       "      <td>541.666667</td>\n",
       "      <td>755.721726</td>\n",
       "      <td>81</td>\n",
       "      <td>1.0</td>\n",
       "    </tr>\n",
       "    <tr>\n",
       "      <th>58468</th>\n",
       "      <td>583922</td>\n",
       "      <td>11001-20190306-25-1</td>\n",
       "      <td>928832f83eadde1351e687f01e7010d1</td>\n",
       "      <td>20200610</td>\n",
       "      <td>1-11001-3122    0019</td>\n",
       "      <td>e51610c07d83f70188174967beb3d84f</td>\n",
       "      <td>DOGWOOD RESTORATION LLC</td>\n",
       "      <td>True</td>\n",
       "      <td>False</td>\n",
       "      <td>True</td>\n",
       "      <td>...</td>\n",
       "      <td>Residential</td>\n",
       "      <td>20001</td>\n",
       "      <td>DC</td>\n",
       "      <td>656000.0</td>\n",
       "      <td>1479.0</td>\n",
       "      <td>867945.0</td>\n",
       "      <td>291.149068</td>\n",
       "      <td>618.454969</td>\n",
       "      <td>27</td>\n",
       "      <td>1.0</td>\n",
       "    </tr>\n",
       "    <tr>\n",
       "      <th>58469</th>\n",
       "      <td>583931</td>\n",
       "      <td>11001-20180221-21-1</td>\n",
       "      <td>928832f83eadde1351e687f01e7010d1</td>\n",
       "      <td>20190109</td>\n",
       "      <td>1-11001-3116    0041</td>\n",
       "      <td>e51610c07d83f70188174967beb3d84f</td>\n",
       "      <td>DOGWOOD RESTORATION LLC</td>\n",
       "      <td>True</td>\n",
       "      <td>False</td>\n",
       "      <td>True</td>\n",
       "      <td>...</td>\n",
       "      <td>Residential</td>\n",
       "      <td>20001</td>\n",
       "      <td>DC</td>\n",
       "      <td>656000.0</td>\n",
       "      <td>1479.0</td>\n",
       "      <td>867945.0</td>\n",
       "      <td>572.100313</td>\n",
       "      <td>936.065831</td>\n",
       "      <td>27</td>\n",
       "      <td>1.0</td>\n",
       "    </tr>\n",
       "    <tr>\n",
       "      <th>58654</th>\n",
       "      <td>585566</td>\n",
       "      <td>11001-20220215-2-1</td>\n",
       "      <td>90221dee94e7774e52ea96daaf6c48db</td>\n",
       "      <td>20220223</td>\n",
       "      <td>1-11001-4325    2047</td>\n",
       "      <td>6d5f4979af432637311eff79fea06eb7</td>\n",
       "      <td>1727 MASS AVE LLC</td>\n",
       "      <td>True</td>\n",
       "      <td>False</td>\n",
       "      <td>True</td>\n",
       "      <td>...</td>\n",
       "      <td>Residential</td>\n",
       "      <td>20018</td>\n",
       "      <td>DC</td>\n",
       "      <td>399999.0</td>\n",
       "      <td>1405.5</td>\n",
       "      <td>637630.0</td>\n",
       "      <td>290.275036</td>\n",
       "      <td>255.021771</td>\n",
       "      <td>10</td>\n",
       "      <td>1.0</td>\n",
       "    </tr>\n",
       "    <tr>\n",
       "      <th>58655</th>\n",
       "      <td>585569</td>\n",
       "      <td>11001-20220215-7-1</td>\n",
       "      <td>90221dee94e7774e52ea96daaf6c48db</td>\n",
       "      <td>20220223</td>\n",
       "      <td>1-11001-4326    2247</td>\n",
       "      <td>6d5f4979af432637311eff79fea06eb7</td>\n",
       "      <td>1727 MASS AVE LLC</td>\n",
       "      <td>True</td>\n",
       "      <td>False</td>\n",
       "      <td>True</td>\n",
       "      <td>...</td>\n",
       "      <td>Residential</td>\n",
       "      <td>20018</td>\n",
       "      <td>DC</td>\n",
       "      <td>399999.0</td>\n",
       "      <td>1405.5</td>\n",
       "      <td>637630.0</td>\n",
       "      <td>261.950884</td>\n",
       "      <td>201.984283</td>\n",
       "      <td>10</td>\n",
       "      <td>1.0</td>\n",
       "    </tr>\n",
       "  </tbody>\n",
       "</table>\n",
       "<p>293 rows × 28 columns</p>\n",
       "</div>"
      ],
      "text/plain": [
       "       Unnamed: 0                    id                           buyerId  \\\n",
       "19225       21421  11001-20220819-308-1  c08e119533785c7ab76fe7aaf36a9523   \n",
       "19861       22127  11001-20181126-212-0  18d85db28e29dbb982592799024e2d7a   \n",
       "29020       32305   11001-20190513-64-0  c9bf824511a49c2ddd62d03e9d2c35e7   \n",
       "29304       32620  11001-20210920-371-0  d4bdfc75dbd54acaa38f3aeb2471f142   \n",
       "70032       77829  11001-20180621-264-0  18d6b55172d43bba8b7a19cf64caa3fa   \n",
       "...           ...                   ...                               ...   \n",
       "52906      528680  11001-20200111-504-0  c5ba940f6cbc5cb5e8339c541d4a13c1   \n",
       "58468      583922   11001-20190306-25-1  928832f83eadde1351e687f01e7010d1   \n",
       "58469      583931   11001-20180221-21-1  928832f83eadde1351e687f01e7010d1   \n",
       "58654      585566    11001-20220215-2-1  90221dee94e7774e52ea96daaf6c48db   \n",
       "58655      585569    11001-20220215-7-1  90221dee94e7774e52ea96daaf6c48db   \n",
       "\n",
       "       importDate                 taxId                            mailId  \\\n",
       "19225    20220824  1-11001-5869    1134  9983978732a12527af9bace4ca3227a8   \n",
       "19861    20190410  1-11001-5084    2012  b76c230eb72acb5f7dac62436b897a87   \n",
       "29020    20200212  1-11001-5292    0082  185f5bfcf650ca090da454531c1a2896   \n",
       "29304    20210922  1-11001-5538    0081  e8aaa1c5de269060f28858d8a03c3bf9   \n",
       "70032    20201125  1-11001-5881    0050  de919b76f429197b802d4e3eb087e57d   \n",
       "...           ...                   ...                               ...   \n",
       "52906    20201021  1-11001-2868    0080  e26b7500b88c63559f7b0ba2c7ed742c   \n",
       "58468    20200610  1-11001-3122    0019  e51610c07d83f70188174967beb3d84f   \n",
       "58469    20190109  1-11001-3116    0041  e51610c07d83f70188174967beb3d84f   \n",
       "58654    20220223  1-11001-4325    2047  6d5f4979af432637311eff79fea06eb7   \n",
       "58655    20220223  1-11001-4326    2247  6d5f4979af432637311eff79fea06eb7   \n",
       "\n",
       "                                name  hasPhone  hasEmail  isEntity  ...  \\\n",
       "19225      EK REAL ESTATE FUND I LLC      True     False      True  ...   \n",
       "19861                MTGLQ INVTRS LP      True     False      True  ...   \n",
       "29020                 HILLDALE TRUST      True     False     False  ...   \n",
       "29304      EK REAL ESTATE FUND I LLC      True     False      True  ...   \n",
       "70032  DIPLOMAT PROPERTY MANAGER LLC      True     False      True  ...   \n",
       "...                              ...       ...       ...       ...  ...   \n",
       "52906           DILAN INVESTMENT LLC      True     False      True  ...   \n",
       "58468        DOGWOOD RESTORATION LLC      True     False      True  ...   \n",
       "58469        DOGWOOD RESTORATION LLC      True     False      True  ...   \n",
       "58654              1727 MASS AVE LLC      True     False      True  ...   \n",
       "58655              1727 MASS AVE LLC      True     False      True  ...   \n",
       "\n",
       "      propertyType    zip  state    med_pp  med_sqft   med_val pricePerSqft  \\\n",
       "19225  Residential  20020     DC  235000.0    1024.0  345595.0   370.192308   \n",
       "19861  Residential  20019     DC  230000.0    1024.0  388430.0   101.049869   \n",
       "29020  Residential  20019     DC  230000.0    1024.0  388430.0   230.230000   \n",
       "29304  Residential  20020     DC  235000.0    1024.0  345595.0   549.450549   \n",
       "70032  Residential  20020     DC  235000.0    1024.0  345595.0   139.000000   \n",
       "...            ...    ...    ...       ...       ...       ...          ...   \n",
       "52906  Residential  20009     DC  670079.0     988.0  656770.0   541.666667   \n",
       "58468  Residential  20001     DC  656000.0    1479.0  867945.0   291.149068   \n",
       "58469  Residential  20001     DC  656000.0    1479.0  867945.0   572.100313   \n",
       "58654  Residential  20018     DC  399999.0    1405.5  637630.0   290.275036   \n",
       "58655  Residential  20018     DC  399999.0    1405.5  637630.0   261.950884   \n",
       "\n",
       "      valuePerSqft txn_count  test  \n",
       "19225   393.020833       209   0.0  \n",
       "19861   177.440945       168   0.0  \n",
       "29020   427.062500        28   0.0  \n",
       "29304   458.360806       196   0.0  \n",
       "70032   276.316176        26   0.0  \n",
       "...            ...       ...   ...  \n",
       "52906   755.721726        81   1.0  \n",
       "58468   618.454969        27   1.0  \n",
       "58469   936.065831        27   1.0  \n",
       "58654   255.021771        10   1.0  \n",
       "58655   201.984283        10   1.0  \n",
       "\n",
       "[293 rows x 28 columns]"
      ]
     },
     "execution_count": 36,
     "metadata": {},
     "output_type": "execute_result"
    }
   ],
   "source": [
    "df_investor[df_investor['state']=='DC']"
   ]
  },
  {
   "cell_type": "code",
   "execution_count": 40,
   "id": "98c1a061-2428-4917-a321-ac76d140b44c",
   "metadata": {
    "tags": []
   },
   "outputs": [],
   "source": [
    "# filter features\n",
    "\n",
    "df_txn = df_investor[['id', 'sqft', 'value', 'purchasePrice', 'propertyType', 'pricePerSqft', \n",
    "                     'valuePerSqft', 'zip', 'state']]"
   ]
  },
  {
   "cell_type": "code",
   "execution_count": 41,
   "id": "4f074421-c7ab-4892-b284-0beb1a153783",
   "metadata": {
    "tags": []
   },
   "outputs": [],
   "source": [
    "# create dummy vars\n",
    "\n",
    "dummies = ['state', 'propertyType']\n",
    "\n",
    "\n",
    "for col in dummies:\n",
    "    vals = df_txn[col].unique().tolist()\n",
    "    df_txn[col] = pd.Categorical(df_txn[col], categories=vals)\n",
    "    \n",
    "\n",
    "df_txn = pd.get_dummies(df_txn, columns=dummies, drop_first=True)\n",
    "\n",
    "\n",
    "clear_output()"
   ]
  },
  {
   "cell_type": "code",
   "execution_count": 42,
   "id": "1a68489f-cefa-4459-9d4d-2e2b20e9e16e",
   "metadata": {
    "tags": []
   },
   "outputs": [],
   "source": [
    "# set index\n",
    "\n",
    "df_txn = df_txn.set_index('id')"
   ]
  },
  {
   "cell_type": "code",
   "execution_count": 43,
   "id": "b227656b-48de-47fb-bfe5-bf3eb8acc5b3",
   "metadata": {
    "tags": []
   },
   "outputs": [],
   "source": [
    "# scale inputs\n",
    "\n",
    "scaler_prop = StandardScaler()\n",
    "txn_scaled = scaler_prop.fit_transform(df_txn)"
   ]
  },
  {
   "cell_type": "code",
   "execution_count": 47,
   "id": "d6e68e55-4904-468e-8bf1-b2da9ca5277d",
   "metadata": {
    "tags": []
   },
   "outputs": [],
   "source": [
    "# dimensionality reduction\n",
    "\n",
    "txn_pca = PCA(n_components=8)\n",
    "txn_scaled_pca = txn_pca.fit_transform(txn_scaled)"
   ]
  },
  {
   "cell_type": "code",
   "execution_count": 48,
   "id": "75de18b2-12af-4cfb-b453-bc345bbdc226",
   "metadata": {
    "tags": []
   },
   "outputs": [],
   "source": [
    "# Final df\n",
    "\n",
    "df_txn = pd.DataFrame(txn_scaled_pca, index=df_txn.index) #columns=df_txn.columns"
   ]
  },
  {
   "cell_type": "code",
   "execution_count": 89,
   "id": "e2835920-ea3a-4804-a849-122136952c1c",
   "metadata": {
    "tags": []
   },
   "outputs": [
    {
     "data": {
      "text/html": [
       "<div>\n",
       "<style scoped>\n",
       "    .dataframe tbody tr th:only-of-type {\n",
       "        vertical-align: middle;\n",
       "    }\n",
       "\n",
       "    .dataframe tbody tr th {\n",
       "        vertical-align: top;\n",
       "    }\n",
       "\n",
       "    .dataframe thead th {\n",
       "        text-align: right;\n",
       "    }\n",
       "</style>\n",
       "<table border=\"1\" class=\"dataframe\">\n",
       "  <thead>\n",
       "    <tr style=\"text-align: right;\">\n",
       "      <th></th>\n",
       "      <th>0</th>\n",
       "      <th>1</th>\n",
       "      <th>2</th>\n",
       "      <th>3</th>\n",
       "      <th>4</th>\n",
       "      <th>5</th>\n",
       "      <th>6</th>\n",
       "      <th>7</th>\n",
       "    </tr>\n",
       "    <tr>\n",
       "      <th>id</th>\n",
       "      <th></th>\n",
       "      <th></th>\n",
       "      <th></th>\n",
       "      <th></th>\n",
       "      <th></th>\n",
       "      <th></th>\n",
       "      <th></th>\n",
       "      <th></th>\n",
       "    </tr>\n",
       "  </thead>\n",
       "  <tbody>\n",
       "    <tr>\n",
       "      <th>39113-20210226-3644-0</th>\n",
       "      <td>-0.301298</td>\n",
       "      <td>-0.546314</td>\n",
       "      <td>-0.104104</td>\n",
       "      <td>0.066825</td>\n",
       "      <td>-0.007681</td>\n",
       "      <td>0.039699</td>\n",
       "      <td>0.020044</td>\n",
       "      <td>-0.011568</td>\n",
       "    </tr>\n",
       "    <tr>\n",
       "      <th>39113-20210327-725-0</th>\n",
       "      <td>-0.303966</td>\n",
       "      <td>-0.560204</td>\n",
       "      <td>-0.100781</td>\n",
       "      <td>0.074098</td>\n",
       "      <td>-0.017417</td>\n",
       "      <td>0.046923</td>\n",
       "      <td>0.024052</td>\n",
       "      <td>-0.010863</td>\n",
       "    </tr>\n",
       "    <tr>\n",
       "      <th>39113-20220504-71-0</th>\n",
       "      <td>-0.212017</td>\n",
       "      <td>-0.154348</td>\n",
       "      <td>-0.122105</td>\n",
       "      <td>-0.015650</td>\n",
       "      <td>0.127444</td>\n",
       "      <td>-0.033579</td>\n",
       "      <td>-0.033286</td>\n",
       "      <td>-0.016304</td>\n",
       "    </tr>\n",
       "    <tr>\n",
       "      <th>39113-20210626-514-0</th>\n",
       "      <td>-0.306268</td>\n",
       "      <td>-0.567259</td>\n",
       "      <td>-0.106608</td>\n",
       "      <td>0.069344</td>\n",
       "      <td>-0.012742</td>\n",
       "      <td>0.041548</td>\n",
       "      <td>0.021907</td>\n",
       "      <td>-0.011514</td>\n",
       "    </tr>\n",
       "    <tr>\n",
       "      <th>39113-20220725-450-0</th>\n",
       "      <td>-0.199218</td>\n",
       "      <td>-0.102462</td>\n",
       "      <td>-0.115829</td>\n",
       "      <td>-0.018570</td>\n",
       "      <td>0.136025</td>\n",
       "      <td>-0.036113</td>\n",
       "      <td>-0.036573</td>\n",
       "      <td>-0.016369</td>\n",
       "    </tr>\n",
       "  </tbody>\n",
       "</table>\n",
       "</div>"
      ],
      "text/plain": [
       "                              0         1         2         3         4  \\\n",
       "id                                                                        \n",
       "39113-20210226-3644-0 -0.301298 -0.546314 -0.104104  0.066825 -0.007681   \n",
       "39113-20210327-725-0  -0.303966 -0.560204 -0.100781  0.074098 -0.017417   \n",
       "39113-20220504-71-0   -0.212017 -0.154348 -0.122105 -0.015650  0.127444   \n",
       "39113-20210626-514-0  -0.306268 -0.567259 -0.106608  0.069344 -0.012742   \n",
       "39113-20220725-450-0  -0.199218 -0.102462 -0.115829 -0.018570  0.136025   \n",
       "\n",
       "                              5         6         7  \n",
       "id                                                   \n",
       "39113-20210226-3644-0  0.039699  0.020044 -0.011568  \n",
       "39113-20210327-725-0   0.046923  0.024052 -0.010863  \n",
       "39113-20220504-71-0   -0.033579 -0.033286 -0.016304  \n",
       "39113-20210626-514-0   0.041548  0.021907 -0.011514  \n",
       "39113-20220725-450-0  -0.036113 -0.036573 -0.016369  "
      ]
     },
     "execution_count": 89,
     "metadata": {},
     "output_type": "execute_result"
    }
   ],
   "source": [
    "df_txn.head()"
   ]
  },
  {
   "cell_type": "code",
   "execution_count": 50,
   "id": "08a9fe3a-9dc6-4f4a-bedc-c65b5d694bab",
   "metadata": {
    "tags": []
   },
   "outputs": [
    {
     "data": {
      "text/plain": [
       "(678566, 8)"
      ]
     },
     "execution_count": 50,
     "metadata": {},
     "output_type": "execute_result"
    }
   ],
   "source": [
    "df_txn.shape"
   ]
  },
  {
   "cell_type": "code",
   "execution_count": 90,
   "id": "18550a5c-508a-4c0e-a906-2af2dc071f67",
   "metadata": {
    "tags": []
   },
   "outputs": [],
   "source": [
    "df_txn.to_csv('s3://{}/{}'.format(bucket, 'transaction_sim_input.csv'))"
   ]
  },
  {
   "cell_type": "markdown",
   "id": "f71c4c45-ab44-4aa3-b7ca-385191073cf8",
   "metadata": {
    "tags": []
   },
   "source": [
    "INVESTOR SIMILARITY TRANSFORMATIONS"
   ]
  },
  {
   "cell_type": "code",
   "execution_count": 54,
   "id": "f662d899-9c5c-42e6-b1f2-6a24cf6927e4",
   "metadata": {
    "tags": []
   },
   "outputs": [],
   "source": [
    "# read in buyerId to total transaction count mapping\n",
    "\n",
    "investors = 's3://{}/{}'.format(bucket, 'investor_txns.csv')\n",
    "investors = pd.read_csv(investors)"
   ]
  },
  {
   "cell_type": "code",
   "execution_count": 55,
   "id": "897b3249-cdd4-4eb2-a8b5-fff601710bd8",
   "metadata": {
    "tags": []
   },
   "outputs": [],
   "source": [
    "# read in median mappings\n",
    "\n",
    "med_pps = 's3://{}/{}'.format(bucket, 'med_pps.csv')\n",
    "med_vps = 's3://{}/{}'.format(bucket, 'med_vps.csv')\n",
    "med_sqft = 's3://{}/{}'.format(bucket, 'med_sqft.csv')\n",
    "med_val = 's3://{}/{}'.format(bucket, 'med_val.csv')\n",
    "med_pp = 's3://{}/{}'.format(bucket, 'med_pp.csv')\n",
    "\n",
    "med_pps_df = pd.read_csv(med_pps)\n",
    "med_vps_df = pd.read_csv(med_vps)\n",
    "med_sqft_df = pd.read_csv(med_sqft)\n",
    "med_val_df = pd.read_csv(med_val)\n",
    "med_pp_df = pd.read_csv(med_pp)"
   ]
  },
  {
   "cell_type": "code",
   "execution_count": 56,
   "id": "ae5e6362-12af-4329-ac5c-214a695f1957",
   "metadata": {
    "tags": []
   },
   "outputs": [],
   "source": [
    "# aggregate for transaction counts\n",
    "\n",
    "df_train_agg = df_train \\\n",
    ".groupby(['buyerId', 'investmentType', 'fundingSource', 'propertyType', 'state'])['taxId'] \\\n",
    ".count().reset_index(name='cnt')"
   ]
  },
  {
   "cell_type": "code",
   "execution_count": 57,
   "id": "214ba564-f075-4204-bc7f-9e0f07e56202",
   "metadata": {
    "tags": []
   },
   "outputs": [
    {
     "data": {
      "text/html": [
       "<div>\n",
       "<style scoped>\n",
       "    .dataframe tbody tr th:only-of-type {\n",
       "        vertical-align: middle;\n",
       "    }\n",
       "\n",
       "    .dataframe tbody tr th {\n",
       "        vertical-align: top;\n",
       "    }\n",
       "\n",
       "    .dataframe thead th {\n",
       "        text-align: right;\n",
       "    }\n",
       "</style>\n",
       "<table border=\"1\" class=\"dataframe\">\n",
       "  <thead>\n",
       "    <tr style=\"text-align: right;\">\n",
       "      <th></th>\n",
       "      <th>buyerId</th>\n",
       "      <th>investmentType</th>\n",
       "      <th>fundingSource</th>\n",
       "      <th>propertyType</th>\n",
       "      <th>state</th>\n",
       "      <th>cnt</th>\n",
       "      <th>Unnamed: 0</th>\n",
       "      <th>txn_count</th>\n",
       "      <th>norm_cnt</th>\n",
       "    </tr>\n",
       "  </thead>\n",
       "  <tbody>\n",
       "    <tr>\n",
       "      <th>0</th>\n",
       "      <td>00074b1019380cc21471e2a46825c1fe</td>\n",
       "      <td>Landlord</td>\n",
       "      <td>Cash</td>\n",
       "      <td>Residential</td>\n",
       "      <td>PA</td>\n",
       "      <td>1</td>\n",
       "      <td>254</td>\n",
       "      <td>13</td>\n",
       "      <td>0.076923</td>\n",
       "    </tr>\n",
       "    <tr>\n",
       "      <th>1</th>\n",
       "      <td>00074b1019380cc21471e2a46825c1fe</td>\n",
       "      <td>Landlord</td>\n",
       "      <td>Mortgage</td>\n",
       "      <td>Commercial</td>\n",
       "      <td>PA</td>\n",
       "      <td>1</td>\n",
       "      <td>254</td>\n",
       "      <td>13</td>\n",
       "      <td>0.076923</td>\n",
       "    </tr>\n",
       "    <tr>\n",
       "      <th>2</th>\n",
       "      <td>00074b1019380cc21471e2a46825c1fe</td>\n",
       "      <td>Rehabber</td>\n",
       "      <td>Cash</td>\n",
       "      <td>Commercial</td>\n",
       "      <td>PA</td>\n",
       "      <td>1</td>\n",
       "      <td>254</td>\n",
       "      <td>13</td>\n",
       "      <td>0.076923</td>\n",
       "    </tr>\n",
       "    <tr>\n",
       "      <th>3</th>\n",
       "      <td>00074b1019380cc21471e2a46825c1fe</td>\n",
       "      <td>Rehabber</td>\n",
       "      <td>Cash</td>\n",
       "      <td>Residential</td>\n",
       "      <td>PA</td>\n",
       "      <td>8</td>\n",
       "      <td>254</td>\n",
       "      <td>13</td>\n",
       "      <td>0.615385</td>\n",
       "    </tr>\n",
       "    <tr>\n",
       "      <th>4</th>\n",
       "      <td>00074b1019380cc21471e2a46825c1fe</td>\n",
       "      <td>Rehabber</td>\n",
       "      <td>Mortgage</td>\n",
       "      <td>Residential</td>\n",
       "      <td>PA</td>\n",
       "      <td>1</td>\n",
       "      <td>254</td>\n",
       "      <td>13</td>\n",
       "      <td>0.076923</td>\n",
       "    </tr>\n",
       "  </tbody>\n",
       "</table>\n",
       "</div>"
      ],
      "text/plain": [
       "                            buyerId investmentType fundingSource propertyType  \\\n",
       "0  00074b1019380cc21471e2a46825c1fe       Landlord          Cash  Residential   \n",
       "1  00074b1019380cc21471e2a46825c1fe       Landlord      Mortgage   Commercial   \n",
       "2  00074b1019380cc21471e2a46825c1fe       Rehabber          Cash   Commercial   \n",
       "3  00074b1019380cc21471e2a46825c1fe       Rehabber          Cash  Residential   \n",
       "4  00074b1019380cc21471e2a46825c1fe       Rehabber      Mortgage  Residential   \n",
       "\n",
       "  state  cnt  Unnamed: 0  txn_count  norm_cnt  \n",
       "0    PA    1         254         13  0.076923  \n",
       "1    PA    1         254         13  0.076923  \n",
       "2    PA    1         254         13  0.076923  \n",
       "3    PA    8         254         13  0.615385  \n",
       "4    PA    1         254         13  0.076923  "
      ]
     },
     "execution_count": 57,
     "metadata": {},
     "output_type": "execute_result"
    }
   ],
   "source": [
    "# add in total transaction counts to create normalized proportions\n",
    "\n",
    "df_train_agg = pd.merge(df_train_agg, investors, on=['buyerId'], how='inner')\n",
    "df_train_agg['norm_cnt'] = df_train_agg['cnt']/df_train_agg['txn_count']\n",
    "\n",
    "df_train_agg.head()"
   ]
  },
  {
   "cell_type": "code",
   "execution_count": 58,
   "id": "4c45f07b-cb22-47e0-a2b1-af87f8a54b6c",
   "metadata": {
    "tags": []
   },
   "outputs": [],
   "source": [
    "# create composite of 'investmentType', 'fundingSource', 'propertyType', 'state'\n",
    "\n",
    "df_train_agg['composite'] = df_train_agg[['investmentType', 'fundingSource', 'propertyType', 'state']].agg('-'.join, axis=1)"
   ]
  },
  {
   "cell_type": "code",
   "execution_count": 79,
   "id": "d2b52970-c0e9-4202-9324-a7449ab803b5",
   "metadata": {
    "tags": []
   },
   "outputs": [],
   "source": [
    "# pivot data on buyerId\n",
    "\n",
    "inv_pivot = df_train_agg.pivot(index = 'buyerId', columns ='composite', values = 'norm_cnt')"
   ]
  },
  {
   "cell_type": "code",
   "execution_count": 80,
   "id": "05e307bc-ed90-42a0-848a-a51ff88810c0",
   "metadata": {
    "tags": []
   },
   "outputs": [],
   "source": [
    "# add in medians by buyerId\n",
    "\n",
    "dfs = [med_pps_df[['buyerId', 'med_pps']], med_vps_df[['buyerId', 'med_vps']], med_sqft_df[['buyerId', 'med_sqft']], \n",
    "       med_val_df[['buyerId', 'med_val']], med_pp_df[['buyerId', 'med_pp']], inv_pivot]\n",
    "\n",
    "inv_pivot = reduce(lambda left,right: pd.merge(left,right,on=['buyerId'], how='inner'), dfs)\n",
    "inv_pivot = inv_pivot.set_index('buyerId').fillna(0)"
   ]
  },
  {
   "cell_type": "code",
   "execution_count": 84,
   "id": "90ca8581-0e4b-47c5-a4f5-1a571696f44f",
   "metadata": {
    "tags": []
   },
   "outputs": [],
   "source": [
    "# scale inputs\n",
    "\n",
    "inv_scaler = StandardScaler()\n",
    "inv_pivot_scaled = inv_scaler.fit_transform(inv_pivot)"
   ]
  },
  {
   "cell_type": "code",
   "execution_count": 85,
   "id": "4f7b6bb1-3a62-41fb-8da5-7cddf2453a9c",
   "metadata": {
    "tags": []
   },
   "outputs": [],
   "source": [
    "# dimensionality reduction\n",
    "\n",
    "inv_pca = PCA(n_components=20)\n",
    "inv_scaled_pca = inv_pca.fit_transform(inv_pivot_scaled)"
   ]
  },
  {
   "cell_type": "code",
   "execution_count": 86,
   "id": "8d08eae2-938a-4e82-afb3-9eb7c20079c6",
   "metadata": {
    "tags": []
   },
   "outputs": [],
   "source": [
    "# final df\n",
    "\n",
    "inv_pivot = pd.DataFrame(inv_scaled_pca, index=inv_pivot.index)"
   ]
  },
  {
   "cell_type": "code",
   "execution_count": 87,
   "id": "98967bcd-24f1-4398-a2df-0726584b1494",
   "metadata": {
    "tags": []
   },
   "outputs": [
    {
     "data": {
      "text/html": [
       "<div>\n",
       "<style scoped>\n",
       "    .dataframe tbody tr th:only-of-type {\n",
       "        vertical-align: middle;\n",
       "    }\n",
       "\n",
       "    .dataframe tbody tr th {\n",
       "        vertical-align: top;\n",
       "    }\n",
       "\n",
       "    .dataframe thead th {\n",
       "        text-align: right;\n",
       "    }\n",
       "</style>\n",
       "<table border=\"1\" class=\"dataframe\">\n",
       "  <thead>\n",
       "    <tr style=\"text-align: right;\">\n",
       "      <th></th>\n",
       "      <th>0</th>\n",
       "      <th>1</th>\n",
       "      <th>2</th>\n",
       "      <th>3</th>\n",
       "      <th>4</th>\n",
       "      <th>5</th>\n",
       "      <th>6</th>\n",
       "      <th>7</th>\n",
       "      <th>8</th>\n",
       "      <th>9</th>\n",
       "      <th>10</th>\n",
       "      <th>11</th>\n",
       "      <th>12</th>\n",
       "      <th>13</th>\n",
       "      <th>14</th>\n",
       "      <th>15</th>\n",
       "      <th>16</th>\n",
       "      <th>17</th>\n",
       "      <th>18</th>\n",
       "      <th>19</th>\n",
       "    </tr>\n",
       "    <tr>\n",
       "      <th>buyerId</th>\n",
       "      <th></th>\n",
       "      <th></th>\n",
       "      <th></th>\n",
       "      <th></th>\n",
       "      <th></th>\n",
       "      <th></th>\n",
       "      <th></th>\n",
       "      <th></th>\n",
       "      <th></th>\n",
       "      <th></th>\n",
       "      <th></th>\n",
       "      <th></th>\n",
       "      <th></th>\n",
       "      <th></th>\n",
       "      <th></th>\n",
       "      <th></th>\n",
       "      <th></th>\n",
       "      <th></th>\n",
       "      <th></th>\n",
       "      <th></th>\n",
       "    </tr>\n",
       "  </thead>\n",
       "  <tbody>\n",
       "    <tr>\n",
       "      <th>00074b1019380cc21471e2a46825c1fe</th>\n",
       "      <td>-0.094402</td>\n",
       "      <td>-0.065866</td>\n",
       "      <td>-0.177974</td>\n",
       "      <td>0.003851</td>\n",
       "      <td>-0.009422</td>\n",
       "      <td>-0.143129</td>\n",
       "      <td>-0.208115</td>\n",
       "      <td>-0.032254</td>\n",
       "      <td>0.149846</td>\n",
       "      <td>0.165633</td>\n",
       "      <td>0.154581</td>\n",
       "      <td>-0.630407</td>\n",
       "      <td>-0.035712</td>\n",
       "      <td>-0.190031</td>\n",
       "      <td>0.022532</td>\n",
       "      <td>-0.623338</td>\n",
       "      <td>-0.225666</td>\n",
       "      <td>0.154971</td>\n",
       "      <td>0.834998</td>\n",
       "      <td>-1.660746</td>\n",
       "    </tr>\n",
       "    <tr>\n",
       "      <th>0007fba1809a022de16900e96add9515</th>\n",
       "      <td>-0.108221</td>\n",
       "      <td>-0.044397</td>\n",
       "      <td>-0.044844</td>\n",
       "      <td>-0.002445</td>\n",
       "      <td>-0.055238</td>\n",
       "      <td>0.002367</td>\n",
       "      <td>-0.059136</td>\n",
       "      <td>-0.123322</td>\n",
       "      <td>-0.156012</td>\n",
       "      <td>0.301529</td>\n",
       "      <td>0.283052</td>\n",
       "      <td>-0.394772</td>\n",
       "      <td>0.060220</td>\n",
       "      <td>-0.357388</td>\n",
       "      <td>0.471606</td>\n",
       "      <td>-0.006292</td>\n",
       "      <td>0.512660</td>\n",
       "      <td>-0.110004</td>\n",
       "      <td>0.343123</td>\n",
       "      <td>0.292158</td>\n",
       "    </tr>\n",
       "    <tr>\n",
       "      <th>0015cc309601fe8731febcc98fc7f6c2</th>\n",
       "      <td>-0.140629</td>\n",
       "      <td>-0.047382</td>\n",
       "      <td>-0.235733</td>\n",
       "      <td>0.003086</td>\n",
       "      <td>-0.055420</td>\n",
       "      <td>-0.099428</td>\n",
       "      <td>-0.303354</td>\n",
       "      <td>-0.313086</td>\n",
       "      <td>-0.245393</td>\n",
       "      <td>0.407382</td>\n",
       "      <td>0.433072</td>\n",
       "      <td>-0.434736</td>\n",
       "      <td>-0.043284</td>\n",
       "      <td>-0.895177</td>\n",
       "      <td>-0.075790</td>\n",
       "      <td>0.111116</td>\n",
       "      <td>-0.065325</td>\n",
       "      <td>-0.043298</td>\n",
       "      <td>0.335285</td>\n",
       "      <td>0.186156</td>\n",
       "    </tr>\n",
       "    <tr>\n",
       "      <th>001a5216b4a83da8dd43f76628258482</th>\n",
       "      <td>0.099706</td>\n",
       "      <td>0.049352</td>\n",
       "      <td>0.587093</td>\n",
       "      <td>-0.150350</td>\n",
       "      <td>0.010570</td>\n",
       "      <td>0.009603</td>\n",
       "      <td>0.547223</td>\n",
       "      <td>0.548510</td>\n",
       "      <td>0.269935</td>\n",
       "      <td>-1.358669</td>\n",
       "      <td>-1.054707</td>\n",
       "      <td>0.932636</td>\n",
       "      <td>-0.431525</td>\n",
       "      <td>1.553163</td>\n",
       "      <td>-0.263420</td>\n",
       "      <td>-0.057401</td>\n",
       "      <td>-0.063983</td>\n",
       "      <td>0.054078</td>\n",
       "      <td>-0.077545</td>\n",
       "      <td>-0.141645</td>\n",
       "    </tr>\n",
       "    <tr>\n",
       "      <th>001bcb3fd35ccd4829fe2ebc7caeb142</th>\n",
       "      <td>-0.080162</td>\n",
       "      <td>-0.022707</td>\n",
       "      <td>-0.017690</td>\n",
       "      <td>-0.044075</td>\n",
       "      <td>-0.027772</td>\n",
       "      <td>-0.030912</td>\n",
       "      <td>-0.013000</td>\n",
       "      <td>-0.049489</td>\n",
       "      <td>-0.037597</td>\n",
       "      <td>-0.121012</td>\n",
       "      <td>-0.070373</td>\n",
       "      <td>-0.021230</td>\n",
       "      <td>-0.092670</td>\n",
       "      <td>0.012817</td>\n",
       "      <td>-0.054513</td>\n",
       "      <td>0.012453</td>\n",
       "      <td>0.116511</td>\n",
       "      <td>-0.167184</td>\n",
       "      <td>0.102567</td>\n",
       "      <td>-0.094450</td>\n",
       "    </tr>\n",
       "  </tbody>\n",
       "</table>\n",
       "</div>"
      ],
      "text/plain": [
       "                                        0         1         2         3   \\\n",
       "buyerId                                                                    \n",
       "00074b1019380cc21471e2a46825c1fe -0.094402 -0.065866 -0.177974  0.003851   \n",
       "0007fba1809a022de16900e96add9515 -0.108221 -0.044397 -0.044844 -0.002445   \n",
       "0015cc309601fe8731febcc98fc7f6c2 -0.140629 -0.047382 -0.235733  0.003086   \n",
       "001a5216b4a83da8dd43f76628258482  0.099706  0.049352  0.587093 -0.150350   \n",
       "001bcb3fd35ccd4829fe2ebc7caeb142 -0.080162 -0.022707 -0.017690 -0.044075   \n",
       "\n",
       "                                        4         5         6         7   \\\n",
       "buyerId                                                                    \n",
       "00074b1019380cc21471e2a46825c1fe -0.009422 -0.143129 -0.208115 -0.032254   \n",
       "0007fba1809a022de16900e96add9515 -0.055238  0.002367 -0.059136 -0.123322   \n",
       "0015cc309601fe8731febcc98fc7f6c2 -0.055420 -0.099428 -0.303354 -0.313086   \n",
       "001a5216b4a83da8dd43f76628258482  0.010570  0.009603  0.547223  0.548510   \n",
       "001bcb3fd35ccd4829fe2ebc7caeb142 -0.027772 -0.030912 -0.013000 -0.049489   \n",
       "\n",
       "                                        8         9         10        11  \\\n",
       "buyerId                                                                    \n",
       "00074b1019380cc21471e2a46825c1fe  0.149846  0.165633  0.154581 -0.630407   \n",
       "0007fba1809a022de16900e96add9515 -0.156012  0.301529  0.283052 -0.394772   \n",
       "0015cc309601fe8731febcc98fc7f6c2 -0.245393  0.407382  0.433072 -0.434736   \n",
       "001a5216b4a83da8dd43f76628258482  0.269935 -1.358669 -1.054707  0.932636   \n",
       "001bcb3fd35ccd4829fe2ebc7caeb142 -0.037597 -0.121012 -0.070373 -0.021230   \n",
       "\n",
       "                                        12        13        14        15  \\\n",
       "buyerId                                                                    \n",
       "00074b1019380cc21471e2a46825c1fe -0.035712 -0.190031  0.022532 -0.623338   \n",
       "0007fba1809a022de16900e96add9515  0.060220 -0.357388  0.471606 -0.006292   \n",
       "0015cc309601fe8731febcc98fc7f6c2 -0.043284 -0.895177 -0.075790  0.111116   \n",
       "001a5216b4a83da8dd43f76628258482 -0.431525  1.553163 -0.263420 -0.057401   \n",
       "001bcb3fd35ccd4829fe2ebc7caeb142 -0.092670  0.012817 -0.054513  0.012453   \n",
       "\n",
       "                                        16        17        18        19  \n",
       "buyerId                                                                   \n",
       "00074b1019380cc21471e2a46825c1fe -0.225666  0.154971  0.834998 -1.660746  \n",
       "0007fba1809a022de16900e96add9515  0.512660 -0.110004  0.343123  0.292158  \n",
       "0015cc309601fe8731febcc98fc7f6c2 -0.065325 -0.043298  0.335285  0.186156  \n",
       "001a5216b4a83da8dd43f76628258482 -0.063983  0.054078 -0.077545 -0.141645  \n",
       "001bcb3fd35ccd4829fe2ebc7caeb142  0.116511 -0.167184  0.102567 -0.094450  "
      ]
     },
     "execution_count": 87,
     "metadata": {},
     "output_type": "execute_result"
    }
   ],
   "source": [
    "inv_pivot.head()"
   ]
  },
  {
   "cell_type": "code",
   "execution_count": 88,
   "id": "b75ffed0-75c1-41a8-86af-c2e15b10ffe1",
   "metadata": {
    "tags": []
   },
   "outputs": [
    {
     "data": {
      "text/plain": [
       "(17650, 20)"
      ]
     },
     "execution_count": 88,
     "metadata": {},
     "output_type": "execute_result"
    }
   ],
   "source": [
    "inv_pivot.shape"
   ]
  },
  {
   "cell_type": "code",
   "execution_count": 91,
   "id": "e7be1e86-bce0-4a8f-bfbc-846842e4a606",
   "metadata": {
    "tags": []
   },
   "outputs": [],
   "source": [
    "inv_pivot.to_csv('s3://{}/{}'.format(bucket, 'investor_sim_input.csv'))"
   ]
  },
  {
   "cell_type": "code",
   "execution_count": null,
   "id": "92258087-108b-439d-88dd-28104d0091bf",
   "metadata": {},
   "outputs": [],
   "source": []
  },
  {
   "cell_type": "code",
   "execution_count": null,
   "id": "8fc1b97d-80c4-4b59-aa73-432130632c9b",
   "metadata": {},
   "outputs": [],
   "source": []
  },
  {
   "cell_type": "code",
   "execution_count": null,
   "id": "ecf616c7-746e-4a46-9c89-d3437e1185a4",
   "metadata": {},
   "outputs": [],
   "source": []
  },
  {
   "cell_type": "code",
   "execution_count": null,
   "id": "a9b6093b-c139-441d-8b14-bed1b3ef61d9",
   "metadata": {},
   "outputs": [],
   "source": []
  },
  {
   "cell_type": "code",
   "execution_count": null,
   "id": "6f9e0f3b-cbe5-440a-97db-0654bc1e216f",
   "metadata": {},
   "outputs": [],
   "source": []
  },
  {
   "cell_type": "code",
   "execution_count": null,
   "id": "db8192cf-8856-42bd-9268-0a0e99906229",
   "metadata": {},
   "outputs": [],
   "source": []
  },
  {
   "cell_type": "code",
   "execution_count": null,
   "id": "29ea6213-05a4-462d-88b0-4e41299ba35c",
   "metadata": {},
   "outputs": [],
   "source": []
  }
 ],
 "metadata": {
  "instance_type": "ml.t3.medium",
  "kernelspec": {
   "display_name": "Python 3 (Data Science)",
   "language": "python",
   "name": "python3__SAGEMAKER_INTERNAL__arn:aws:sagemaker:us-east-1:081325390199:image/datascience-1.0"
  },
  "language_info": {
   "codemirror_mode": {
    "name": "ipython",
    "version": 3
   },
   "file_extension": ".py",
   "mimetype": "text/x-python",
   "name": "python",
   "nbconvert_exporter": "python",
   "pygments_lexer": "ipython3",
   "version": "3.7.10"
  }
 },
 "nbformat": 4,
 "nbformat_minor": 5
}
