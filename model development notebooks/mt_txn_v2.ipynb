{
 "cells": [
  {
   "cell_type": "code",
   "execution_count": 54,
   "id": "4efb8bbb-5b56-4e80-b6f7-04bdf28a0323",
   "metadata": {
    "tags": []
   },
   "outputs": [],
   "source": [
    "import pandas as pd\n",
    "import numpy as np\n",
    "from functools import reduce\n",
    "import matplotlib.pyplot as plt\n",
    "import seaborn as sns\n",
    "# import pyspark\n",
    "import json\n",
    "import ast\n",
    "import boto3\n",
    "from sagemaker import get_execution_role\n",
    "from sklearn.model_selection import train_test_split\n",
    "from sklearn.preprocessing import StandardScaler\n",
    "from sklearn.decomposition import PCA\n",
    "\n",
    "from sklearn.metrics.pairwise import cosine_similarity, euclidean_distances\n",
    "from sklearn.decomposition import TruncatedSVD\n",
    "\n",
    "from IPython.display import clear_output"
   ]
  },
  {
   "cell_type": "markdown",
   "id": "a6e98776-ec6e-4448-b6ca-2f036ffe5fde",
   "metadata": {},
   "source": [
    "TRANSACTION DATA PREP"
   ]
  },
  {
   "cell_type": "code",
   "execution_count": 55,
   "id": "d048517f-f10b-4c5f-af00-9c77f7f7ae65",
   "metadata": {
    "tags": []
   },
   "outputs": [],
   "source": [
    "role = get_execution_role()\n",
    "bucket='sagemaker-us-east-1-770526846351'"
   ]
  },
  {
   "cell_type": "code",
   "execution_count": 56,
   "id": "6be6b8ad-51bd-40ae-b415-c87f5258c745",
   "metadata": {
    "tags": []
   },
   "outputs": [],
   "source": [
    "df_tax_location = 's3://{}/{}'.format(bucket, 'tax_investor_filtered.csv')\n",
    "df = pd.read_csv(df_tax_location)"
   ]
  },
  {
   "cell_type": "code",
   "execution_count": 57,
   "id": "40d71fac-1693-414c-911d-ad6a2ab2b258",
   "metadata": {
    "tags": []
   },
   "outputs": [],
   "source": [
    "df = df[df['tax_amount'].notna()]\n",
    "df = df[df['value_land'].notna()]"
   ]
  },
  {
   "cell_type": "code",
   "execution_count": 58,
   "id": "61dc3ea8-fd12-48b9-8d5c-cf7e57ae1bcb",
   "metadata": {
    "tags": []
   },
   "outputs": [],
   "source": [
    "df['taxRatio'] = df['tax_amount']/df['purchasePrice']\n",
    "df['landRatio'] = df['value_land']/df['value']\n",
    "df['impRatio'] = 1 - df['landRatio']"
   ]
  },
  {
   "cell_type": "code",
   "execution_count": 59,
   "id": "4b3a1bb9-b5c3-404d-886c-1762ac797949",
   "metadata": {
    "tags": []
   },
   "outputs": [],
   "source": [
    "df_txn = df[['id', 'sqft', 'value', 'purchasePrice', 'propertyType', 'pricePerSqft', \n",
    "        'valuePerSqft', 'zip', 'state', 'taxRatio', 'landRatio', 'impRatio']]"
   ]
  },
  {
   "cell_type": "code",
   "execution_count": 60,
   "id": "9ab8c5a0-5503-41d9-bb0d-42460adb3453",
   "metadata": {
    "tags": []
   },
   "outputs": [],
   "source": [
    "# create dummy vars\n",
    "\n",
    "dummies = ['state', 'propertyType']\n",
    "\n",
    "\n",
    "for col in dummies:\n",
    "    vals = df_txn[col].unique().tolist()\n",
    "    df_txn[col] = pd.Categorical(df_txn[col], categories=vals)\n",
    "    \n",
    "\n",
    "df_txn = pd.get_dummies(df_txn, columns=dummies, drop_first=True)\n",
    "\n",
    "\n",
    "clear_output()"
   ]
  },
  {
   "cell_type": "code",
   "execution_count": 61,
   "id": "1e3290b8-826b-49bd-a41b-91c071806c3b",
   "metadata": {
    "tags": []
   },
   "outputs": [],
   "source": [
    "# set index\n",
    "\n",
    "df_txn = df_txn.set_index('id')"
   ]
  },
  {
   "cell_type": "code",
   "execution_count": 62,
   "id": "8a219101-38c3-4425-9985-6b9b37a4d5ac",
   "metadata": {
    "tags": []
   },
   "outputs": [],
   "source": [
    "# scale inputs\n",
    "\n",
    "scaler_prop = StandardScaler()\n",
    "txn_scaled = scaler_prop.fit_transform(df_txn)"
   ]
  },
  {
   "cell_type": "code",
   "execution_count": 63,
   "id": "37f23081-35b0-4055-a51c-71a0a327ea1f",
   "metadata": {
    "tags": []
   },
   "outputs": [],
   "source": [
    "# dimensionality reduction\n",
    "\n",
    "txn_pca = PCA(n_components=10)\n",
    "txn_scaled_pca = txn_pca.fit_transform(txn_scaled)"
   ]
  },
  {
   "cell_type": "code",
   "execution_count": 64,
   "id": "9b853c43-a647-4f9e-8c69-e7b20b546297",
   "metadata": {
    "tags": []
   },
   "outputs": [
    {
     "name": "stdout",
     "output_type": "stream",
     "text": [
      "[0.22008151 0.16745542 0.1445849  0.11632359 0.07894299 0.07690785\n",
      " 0.07524492 0.07353989 0.02744695 0.0120335 ]\n"
     ]
    }
   ],
   "source": [
    "print(txn_pca.explained_variance_ratio_)"
   ]
  },
  {
   "cell_type": "code",
   "execution_count": 65,
   "id": "b8d931bb-446f-4d41-ae09-f0211e5a6fe6",
   "metadata": {
    "tags": []
   },
   "outputs": [
    {
     "data": {
      "text/plain": [
       "0.9925615085940344"
      ]
     },
     "execution_count": 65,
     "metadata": {},
     "output_type": "execute_result"
    }
   ],
   "source": [
    "sum(txn_pca.explained_variance_ratio_)"
   ]
  },
  {
   "cell_type": "code",
   "execution_count": 66,
   "id": "472c2e05-d4c7-44fd-9bab-96c65d778e15",
   "metadata": {
    "tags": []
   },
   "outputs": [],
   "source": [
    "# Final df\n",
    "\n",
    "df_txn = pd.DataFrame(txn_scaled_pca, index=df_txn.index) #columns=df_txn.columns"
   ]
  },
  {
   "cell_type": "code",
   "execution_count": 67,
   "id": "8dfa8f1e-1e84-44a0-9941-ea879389c39e",
   "metadata": {
    "tags": []
   },
   "outputs": [
    {
     "data": {
      "text/html": [
       "<div>\n",
       "<style scoped>\n",
       "    .dataframe tbody tr th:only-of-type {\n",
       "        vertical-align: middle;\n",
       "    }\n",
       "\n",
       "    .dataframe tbody tr th {\n",
       "        vertical-align: top;\n",
       "    }\n",
       "\n",
       "    .dataframe thead th {\n",
       "        text-align: right;\n",
       "    }\n",
       "</style>\n",
       "<table border=\"1\" class=\"dataframe\">\n",
       "  <thead>\n",
       "    <tr style=\"text-align: right;\">\n",
       "      <th></th>\n",
       "      <th>0</th>\n",
       "      <th>1</th>\n",
       "      <th>2</th>\n",
       "      <th>3</th>\n",
       "      <th>4</th>\n",
       "      <th>5</th>\n",
       "      <th>6</th>\n",
       "      <th>7</th>\n",
       "      <th>8</th>\n",
       "      <th>9</th>\n",
       "    </tr>\n",
       "    <tr>\n",
       "      <th>id</th>\n",
       "      <th></th>\n",
       "      <th></th>\n",
       "      <th></th>\n",
       "      <th></th>\n",
       "      <th></th>\n",
       "      <th></th>\n",
       "      <th></th>\n",
       "      <th></th>\n",
       "      <th></th>\n",
       "      <th></th>\n",
       "    </tr>\n",
       "  </thead>\n",
       "  <tbody>\n",
       "    <tr>\n",
       "      <th>11001-20220713-192-0</th>\n",
       "      <td>1.915286</td>\n",
       "      <td>1.129846</td>\n",
       "      <td>0.342576</td>\n",
       "      <td>0.988148</td>\n",
       "      <td>0.251207</td>\n",
       "      <td>-0.027855</td>\n",
       "      <td>-0.363346</td>\n",
       "      <td>0.126845</td>\n",
       "      <td>-1.511220</td>\n",
       "      <td>-0.760808</td>\n",
       "    </tr>\n",
       "    <tr>\n",
       "      <th>11001-20210629-297-0</th>\n",
       "      <td>1.698778</td>\n",
       "      <td>1.079330</td>\n",
       "      <td>-0.266098</td>\n",
       "      <td>0.260618</td>\n",
       "      <td>0.340104</td>\n",
       "      <td>-0.033733</td>\n",
       "      <td>-0.206122</td>\n",
       "      <td>0.215363</td>\n",
       "      <td>-1.263419</td>\n",
       "      <td>-1.054342</td>\n",
       "    </tr>\n",
       "    <tr>\n",
       "      <th>11001-20220826-208-1</th>\n",
       "      <td>1.631475</td>\n",
       "      <td>1.151922</td>\n",
       "      <td>-0.344449</td>\n",
       "      <td>-0.134238</td>\n",
       "      <td>0.444768</td>\n",
       "      <td>-0.039329</td>\n",
       "      <td>-0.132546</td>\n",
       "      <td>0.281944</td>\n",
       "      <td>-1.337601</td>\n",
       "      <td>-1.098229</td>\n",
       "    </tr>\n",
       "    <tr>\n",
       "      <th>11001-20190221-139-1</th>\n",
       "      <td>1.650858</td>\n",
       "      <td>-0.318679</td>\n",
       "      <td>0.651853</td>\n",
       "      <td>1.774723</td>\n",
       "      <td>0.315576</td>\n",
       "      <td>-0.027269</td>\n",
       "      <td>-0.445488</td>\n",
       "      <td>0.140650</td>\n",
       "      <td>-1.808860</td>\n",
       "      <td>-0.368423</td>\n",
       "    </tr>\n",
       "    <tr>\n",
       "      <th>11001-20220325-201-1</th>\n",
       "      <td>2.016636</td>\n",
       "      <td>1.021095</td>\n",
       "      <td>0.517227</td>\n",
       "      <td>1.588420</td>\n",
       "      <td>0.509905</td>\n",
       "      <td>-0.037716</td>\n",
       "      <td>-0.500223</td>\n",
       "      <td>0.312668</td>\n",
       "      <td>-1.957268</td>\n",
       "      <td>-0.380496</td>\n",
       "    </tr>\n",
       "  </tbody>\n",
       "</table>\n",
       "</div>"
      ],
      "text/plain": [
       "                             0         1         2         3         4  \\\n",
       "id                                                                       \n",
       "11001-20220713-192-0  1.915286  1.129846  0.342576  0.988148  0.251207   \n",
       "11001-20210629-297-0  1.698778  1.079330 -0.266098  0.260618  0.340104   \n",
       "11001-20220826-208-1  1.631475  1.151922 -0.344449 -0.134238  0.444768   \n",
       "11001-20190221-139-1  1.650858 -0.318679  0.651853  1.774723  0.315576   \n",
       "11001-20220325-201-1  2.016636  1.021095  0.517227  1.588420  0.509905   \n",
       "\n",
       "                             5         6         7         8         9  \n",
       "id                                                                      \n",
       "11001-20220713-192-0 -0.027855 -0.363346  0.126845 -1.511220 -0.760808  \n",
       "11001-20210629-297-0 -0.033733 -0.206122  0.215363 -1.263419 -1.054342  \n",
       "11001-20220826-208-1 -0.039329 -0.132546  0.281944 -1.337601 -1.098229  \n",
       "11001-20190221-139-1 -0.027269 -0.445488  0.140650 -1.808860 -0.368423  \n",
       "11001-20220325-201-1 -0.037716 -0.500223  0.312668 -1.957268 -0.380496  "
      ]
     },
     "execution_count": 67,
     "metadata": {},
     "output_type": "execute_result"
    }
   ],
   "source": [
    "df_txn.head()"
   ]
  },
  {
   "cell_type": "code",
   "execution_count": 68,
   "id": "ef182595-9a6e-4655-b846-2245bc7796dd",
   "metadata": {
    "tags": []
   },
   "outputs": [
    {
     "data": {
      "text/plain": [
       "(24054, 10)"
      ]
     },
     "execution_count": 68,
     "metadata": {},
     "output_type": "execute_result"
    }
   ],
   "source": [
    "df_txn.shape"
   ]
  },
  {
   "cell_type": "code",
   "execution_count": 69,
   "id": "7045cd38-6579-47c3-bc35-2c595e4da723",
   "metadata": {
    "tags": []
   },
   "outputs": [],
   "source": [
    "# df_txn.to_csv('s3://{}/{}'.format(bucket, 'region_transaction_sim_input.csv'))"
   ]
  },
  {
   "cell_type": "markdown",
   "id": "93d57ec5-7e63-4938-9ff7-96f2285748ad",
   "metadata": {},
   "source": [
    "#### Cosine Similarity"
   ]
  },
  {
   "cell_type": "code",
   "execution_count": 70,
   "id": "045be3a1-353a-4f65-9fc9-237b2b2ee2b7",
   "metadata": {
    "tags": []
   },
   "outputs": [],
   "source": [
    "txn_sim_matrix = cosine_similarity(df_txn)"
   ]
  },
  {
   "cell_type": "code",
   "execution_count": 71,
   "id": "5e8f6aea-ecdb-4c5c-84b8-5972d57b47d3",
   "metadata": {
    "tags": []
   },
   "outputs": [],
   "source": [
    "txn_sim = pd.DataFrame(txn_sim_matrix, columns=df_txn.index, index=df_txn.index)"
   ]
  },
  {
   "cell_type": "code",
   "execution_count": 72,
   "id": "93eb77c5-0def-46e1-a2f0-94fe0518ca24",
   "metadata": {
    "tags": []
   },
   "outputs": [
    {
     "data": {
      "text/html": [
       "<div>\n",
       "<style scoped>\n",
       "    .dataframe tbody tr th:only-of-type {\n",
       "        vertical-align: middle;\n",
       "    }\n",
       "\n",
       "    .dataframe tbody tr th {\n",
       "        vertical-align: top;\n",
       "    }\n",
       "\n",
       "    .dataframe thead th {\n",
       "        text-align: right;\n",
       "    }\n",
       "</style>\n",
       "<table border=\"1\" class=\"dataframe\">\n",
       "  <thead>\n",
       "    <tr style=\"text-align: right;\">\n",
       "      <th>id</th>\n",
       "      <th>11001-20220713-192-0</th>\n",
       "      <th>11001-20210629-297-0</th>\n",
       "      <th>11001-20220826-208-1</th>\n",
       "      <th>11001-20190221-139-1</th>\n",
       "      <th>11001-20220325-201-1</th>\n",
       "      <th>11001-20190822-116-0</th>\n",
       "      <th>11001-20181009-61-1</th>\n",
       "      <th>11001-20210119-468-1</th>\n",
       "      <th>11001-20211104-41-1</th>\n",
       "      <th>11001-20180705-225-1</th>\n",
       "      <th>...</th>\n",
       "      <th>51169-20220304-37-0</th>\n",
       "      <th>51059-20220126-836-0</th>\n",
       "      <th>51550-20210130-500-0</th>\n",
       "      <th>51059-20220610-39-0</th>\n",
       "      <th>51169-20190222-32-0</th>\n",
       "      <th>51169-20221125-636-0</th>\n",
       "      <th>51550-20210501-821-1</th>\n",
       "      <th>51550-20220606-428-0</th>\n",
       "      <th>51169-20220114-19-0</th>\n",
       "      <th>51169-20220603-33-1</th>\n",
       "    </tr>\n",
       "    <tr>\n",
       "      <th>id</th>\n",
       "      <th></th>\n",
       "      <th></th>\n",
       "      <th></th>\n",
       "      <th></th>\n",
       "      <th></th>\n",
       "      <th></th>\n",
       "      <th></th>\n",
       "      <th></th>\n",
       "      <th></th>\n",
       "      <th></th>\n",
       "      <th></th>\n",
       "      <th></th>\n",
       "      <th></th>\n",
       "      <th></th>\n",
       "      <th></th>\n",
       "      <th></th>\n",
       "      <th></th>\n",
       "      <th></th>\n",
       "      <th></th>\n",
       "      <th></th>\n",
       "      <th></th>\n",
       "    </tr>\n",
       "  </thead>\n",
       "  <tbody>\n",
       "    <tr>\n",
       "      <th>11001-20220713-192-0</th>\n",
       "      <td>1.000000</td>\n",
       "      <td>0.937097</td>\n",
       "      <td>0.879314</td>\n",
       "      <td>0.838173</td>\n",
       "      <td>0.971314</td>\n",
       "      <td>0.745133</td>\n",
       "      <td>0.744073</td>\n",
       "      <td>0.916528</td>\n",
       "      <td>0.785865</td>\n",
       "      <td>0.810391</td>\n",
       "      <td>...</td>\n",
       "      <td>-0.597308</td>\n",
       "      <td>0.471770</td>\n",
       "      <td>-0.130093</td>\n",
       "      <td>0.330910</td>\n",
       "      <td>-0.540700</td>\n",
       "      <td>-0.360610</td>\n",
       "      <td>-0.417040</td>\n",
       "      <td>-0.268567</td>\n",
       "      <td>-0.772270</td>\n",
       "      <td>-0.827964</td>\n",
       "    </tr>\n",
       "    <tr>\n",
       "      <th>11001-20210629-297-0</th>\n",
       "      <td>0.937097</td>\n",
       "      <td>1.000000</td>\n",
       "      <td>0.986449</td>\n",
       "      <td>0.666583</td>\n",
       "      <td>0.852000</td>\n",
       "      <td>0.550930</td>\n",
       "      <td>0.560894</td>\n",
       "      <td>0.744993</td>\n",
       "      <td>0.568453</td>\n",
       "      <td>0.662371</td>\n",
       "      <td>...</td>\n",
       "      <td>-0.469827</td>\n",
       "      <td>0.487630</td>\n",
       "      <td>-0.093688</td>\n",
       "      <td>0.377563</td>\n",
       "      <td>-0.406683</td>\n",
       "      <td>-0.251323</td>\n",
       "      <td>-0.349399</td>\n",
       "      <td>-0.178235</td>\n",
       "      <td>-0.670686</td>\n",
       "      <td>-0.732393</td>\n",
       "    </tr>\n",
       "    <tr>\n",
       "      <th>11001-20220826-208-1</th>\n",
       "      <td>0.879314</td>\n",
       "      <td>0.986449</td>\n",
       "      <td>1.000000</td>\n",
       "      <td>0.568563</td>\n",
       "      <td>0.778714</td>\n",
       "      <td>0.474874</td>\n",
       "      <td>0.493390</td>\n",
       "      <td>0.648750</td>\n",
       "      <td>0.454013</td>\n",
       "      <td>0.591279</td>\n",
       "      <td>...</td>\n",
       "      <td>-0.371517</td>\n",
       "      <td>0.495002</td>\n",
       "      <td>-0.042405</td>\n",
       "      <td>0.406802</td>\n",
       "      <td>-0.312632</td>\n",
       "      <td>-0.182254</td>\n",
       "      <td>-0.298750</td>\n",
       "      <td>-0.104387</td>\n",
       "      <td>-0.588465</td>\n",
       "      <td>-0.640373</td>\n",
       "    </tr>\n",
       "    <tr>\n",
       "      <th>11001-20190221-139-1</th>\n",
       "      <td>0.838173</td>\n",
       "      <td>0.666583</td>\n",
       "      <td>0.568563</td>\n",
       "      <td>1.000000</td>\n",
       "      <td>0.913247</td>\n",
       "      <td>0.954706</td>\n",
       "      <td>0.942340</td>\n",
       "      <td>0.975447</td>\n",
       "      <td>0.986830</td>\n",
       "      <td>0.976856</td>\n",
       "      <td>...</td>\n",
       "      <td>-0.785429</td>\n",
       "      <td>0.546858</td>\n",
       "      <td>-0.354304</td>\n",
       "      <td>0.405247</td>\n",
       "      <td>-0.770437</td>\n",
       "      <td>-0.658540</td>\n",
       "      <td>-0.589313</td>\n",
       "      <td>-0.505603</td>\n",
       "      <td>-0.856681</td>\n",
       "      <td>-0.830527</td>\n",
       "    </tr>\n",
       "    <tr>\n",
       "      <th>11001-20220325-201-1</th>\n",
       "      <td>0.971314</td>\n",
       "      <td>0.852000</td>\n",
       "      <td>0.778714</td>\n",
       "      <td>0.913247</td>\n",
       "      <td>1.000000</td>\n",
       "      <td>0.857673</td>\n",
       "      <td>0.853081</td>\n",
       "      <td>0.973152</td>\n",
       "      <td>0.879613</td>\n",
       "      <td>0.893603</td>\n",
       "      <td>...</td>\n",
       "      <td>-0.620472</td>\n",
       "      <td>0.454504</td>\n",
       "      <td>-0.121797</td>\n",
       "      <td>0.295831</td>\n",
       "      <td>-0.573511</td>\n",
       "      <td>-0.397356</td>\n",
       "      <td>-0.434260</td>\n",
       "      <td>-0.286355</td>\n",
       "      <td>-0.787001</td>\n",
       "      <td>-0.825737</td>\n",
       "    </tr>\n",
       "  </tbody>\n",
       "</table>\n",
       "<p>5 rows × 24054 columns</p>\n",
       "</div>"
      ],
      "text/plain": [
       "id                    11001-20220713-192-0  11001-20210629-297-0  \\\n",
       "id                                                                 \n",
       "11001-20220713-192-0              1.000000              0.937097   \n",
       "11001-20210629-297-0              0.937097              1.000000   \n",
       "11001-20220826-208-1              0.879314              0.986449   \n",
       "11001-20190221-139-1              0.838173              0.666583   \n",
       "11001-20220325-201-1              0.971314              0.852000   \n",
       "\n",
       "id                    11001-20220826-208-1  11001-20190221-139-1  \\\n",
       "id                                                                 \n",
       "11001-20220713-192-0              0.879314              0.838173   \n",
       "11001-20210629-297-0              0.986449              0.666583   \n",
       "11001-20220826-208-1              1.000000              0.568563   \n",
       "11001-20190221-139-1              0.568563              1.000000   \n",
       "11001-20220325-201-1              0.778714              0.913247   \n",
       "\n",
       "id                    11001-20220325-201-1  11001-20190822-116-0  \\\n",
       "id                                                                 \n",
       "11001-20220713-192-0              0.971314              0.745133   \n",
       "11001-20210629-297-0              0.852000              0.550930   \n",
       "11001-20220826-208-1              0.778714              0.474874   \n",
       "11001-20190221-139-1              0.913247              0.954706   \n",
       "11001-20220325-201-1              1.000000              0.857673   \n",
       "\n",
       "id                    11001-20181009-61-1  11001-20210119-468-1  \\\n",
       "id                                                                \n",
       "11001-20220713-192-0             0.744073              0.916528   \n",
       "11001-20210629-297-0             0.560894              0.744993   \n",
       "11001-20220826-208-1             0.493390              0.648750   \n",
       "11001-20190221-139-1             0.942340              0.975447   \n",
       "11001-20220325-201-1             0.853081              0.973152   \n",
       "\n",
       "id                    11001-20211104-41-1  11001-20180705-225-1  ...  \\\n",
       "id                                                               ...   \n",
       "11001-20220713-192-0             0.785865              0.810391  ...   \n",
       "11001-20210629-297-0             0.568453              0.662371  ...   \n",
       "11001-20220826-208-1             0.454013              0.591279  ...   \n",
       "11001-20190221-139-1             0.986830              0.976856  ...   \n",
       "11001-20220325-201-1             0.879613              0.893603  ...   \n",
       "\n",
       "id                    51169-20220304-37-0  51059-20220126-836-0  \\\n",
       "id                                                                \n",
       "11001-20220713-192-0            -0.597308              0.471770   \n",
       "11001-20210629-297-0            -0.469827              0.487630   \n",
       "11001-20220826-208-1            -0.371517              0.495002   \n",
       "11001-20190221-139-1            -0.785429              0.546858   \n",
       "11001-20220325-201-1            -0.620472              0.454504   \n",
       "\n",
       "id                    51550-20210130-500-0  51059-20220610-39-0  \\\n",
       "id                                                                \n",
       "11001-20220713-192-0             -0.130093             0.330910   \n",
       "11001-20210629-297-0             -0.093688             0.377563   \n",
       "11001-20220826-208-1             -0.042405             0.406802   \n",
       "11001-20190221-139-1             -0.354304             0.405247   \n",
       "11001-20220325-201-1             -0.121797             0.295831   \n",
       "\n",
       "id                    51169-20190222-32-0  51169-20221125-636-0  \\\n",
       "id                                                                \n",
       "11001-20220713-192-0            -0.540700             -0.360610   \n",
       "11001-20210629-297-0            -0.406683             -0.251323   \n",
       "11001-20220826-208-1            -0.312632             -0.182254   \n",
       "11001-20190221-139-1            -0.770437             -0.658540   \n",
       "11001-20220325-201-1            -0.573511             -0.397356   \n",
       "\n",
       "id                    51550-20210501-821-1  51550-20220606-428-0  \\\n",
       "id                                                                 \n",
       "11001-20220713-192-0             -0.417040             -0.268567   \n",
       "11001-20210629-297-0             -0.349399             -0.178235   \n",
       "11001-20220826-208-1             -0.298750             -0.104387   \n",
       "11001-20190221-139-1             -0.589313             -0.505603   \n",
       "11001-20220325-201-1             -0.434260             -0.286355   \n",
       "\n",
       "id                    51169-20220114-19-0  51169-20220603-33-1  \n",
       "id                                                              \n",
       "11001-20220713-192-0            -0.772270            -0.827964  \n",
       "11001-20210629-297-0            -0.670686            -0.732393  \n",
       "11001-20220826-208-1            -0.588465            -0.640373  \n",
       "11001-20190221-139-1            -0.856681            -0.830527  \n",
       "11001-20220325-201-1            -0.787001            -0.825737  \n",
       "\n",
       "[5 rows x 24054 columns]"
      ]
     },
     "execution_count": 72,
     "metadata": {},
     "output_type": "execute_result"
    }
   ],
   "source": [
    "txn_sim.head()"
   ]
  },
  {
   "cell_type": "code",
   "execution_count": 73,
   "id": "eb1e4522-fd95-4729-bd4c-2a26584bad3e",
   "metadata": {
    "tags": []
   },
   "outputs": [],
   "source": [
    "txn_result = {'id':[], 'recs':[]}\n",
    "\n",
    "for idx, row in txn_sim.iterrows():\n",
    "    data = txn_sim[idx].sort_values(ascending=False).reset_index(name='cosine_score').head(11).tail(10).to_dict('records')\n",
    "    txn_result['id'].append(idx)\n",
    "    txn_result['recs'].append(data)"
   ]
  },
  {
   "cell_type": "code",
   "execution_count": 74,
   "id": "48b7775d-6a49-4b54-bcaf-e7274a2926a6",
   "metadata": {
    "tags": []
   },
   "outputs": [],
   "source": [
    "df_txn_result = pd.DataFrame(txn_result)"
   ]
  },
  {
   "cell_type": "code",
   "execution_count": 75,
   "id": "2c7ed37d-1875-4ad1-ba7f-0ef7abc7b0d8",
   "metadata": {
    "tags": []
   },
   "outputs": [
    {
     "data": {
      "text/html": [
       "<div>\n",
       "<style scoped>\n",
       "    .dataframe tbody tr th:only-of-type {\n",
       "        vertical-align: middle;\n",
       "    }\n",
       "\n",
       "    .dataframe tbody tr th {\n",
       "        vertical-align: top;\n",
       "    }\n",
       "\n",
       "    .dataframe thead th {\n",
       "        text-align: right;\n",
       "    }\n",
       "</style>\n",
       "<table border=\"1\" class=\"dataframe\">\n",
       "  <thead>\n",
       "    <tr style=\"text-align: right;\">\n",
       "      <th></th>\n",
       "      <th>id</th>\n",
       "      <th>recs</th>\n",
       "    </tr>\n",
       "  </thead>\n",
       "  <tbody>\n",
       "    <tr>\n",
       "      <th>0</th>\n",
       "      <td>11001-20220713-192-0</td>\n",
       "      <td>[{'id': '11001-20220912-55-0', 'cosine_score':...</td>\n",
       "    </tr>\n",
       "    <tr>\n",
       "      <th>1</th>\n",
       "      <td>11001-20210629-297-0</td>\n",
       "      <td>[{'id': '11001-20220819-72-1', 'cosine_score':...</td>\n",
       "    </tr>\n",
       "    <tr>\n",
       "      <th>2</th>\n",
       "      <td>11001-20220826-208-1</td>\n",
       "      <td>[{'id': '11001-20200713-547-0', 'cosine_score'...</td>\n",
       "    </tr>\n",
       "    <tr>\n",
       "      <th>3</th>\n",
       "      <td>11001-20190221-139-1</td>\n",
       "      <td>[{'id': '11001-20220824-106-1', 'cosine_score'...</td>\n",
       "    </tr>\n",
       "    <tr>\n",
       "      <th>4</th>\n",
       "      <td>11001-20220325-201-1</td>\n",
       "      <td>[{'id': '11001-20211220-253-1', 'cosine_score'...</td>\n",
       "    </tr>\n",
       "  </tbody>\n",
       "</table>\n",
       "</div>"
      ],
      "text/plain": [
       "                     id                                               recs\n",
       "0  11001-20220713-192-0  [{'id': '11001-20220912-55-0', 'cosine_score':...\n",
       "1  11001-20210629-297-0  [{'id': '11001-20220819-72-1', 'cosine_score':...\n",
       "2  11001-20220826-208-1  [{'id': '11001-20200713-547-0', 'cosine_score'...\n",
       "3  11001-20190221-139-1  [{'id': '11001-20220824-106-1', 'cosine_score'...\n",
       "4  11001-20220325-201-1  [{'id': '11001-20211220-253-1', 'cosine_score'..."
      ]
     },
     "execution_count": 75,
     "metadata": {},
     "output_type": "execute_result"
    }
   ],
   "source": [
    "df_txn_result.head()"
   ]
  },
  {
   "cell_type": "code",
   "execution_count": 77,
   "id": "05677413-1d56-4f89-8452-41240439dc20",
   "metadata": {
    "tags": []
   },
   "outputs": [
    {
     "data": {
      "text/plain": [
       "(24054, 2)"
      ]
     },
     "execution_count": 77,
     "metadata": {},
     "output_type": "execute_result"
    }
   ],
   "source": [
    "df_txn_result.shape"
   ]
  },
  {
   "cell_type": "code",
   "execution_count": 78,
   "id": "cf55eb2e-1dcf-4c56-9f6b-db4d452ebe99",
   "metadata": {
    "tags": []
   },
   "outputs": [],
   "source": [
    "df_txn_result.to_csv('s3://{}/{}'.format(bucket, 'region_transaction_cosine_sim_result_top10.csv'))"
   ]
  },
  {
   "cell_type": "markdown",
   "id": "3ef08a2e-2d03-4d43-938a-db0a1a81de18",
   "metadata": {},
   "source": [
    "#### Euclidean Distance"
   ]
  },
  {
   "cell_type": "code",
   "execution_count": 79,
   "id": "51010067-c72a-4abb-b445-890fe19963e0",
   "metadata": {
    "tags": []
   },
   "outputs": [],
   "source": [
    "txn_eu_sim_matrix = euclidean_distances(df_txn)"
   ]
  },
  {
   "cell_type": "code",
   "execution_count": 80,
   "id": "668bc47a-f3f7-468c-b2f8-90f6963e1a8c",
   "metadata": {
    "tags": []
   },
   "outputs": [],
   "source": [
    "txn_eu_sim = pd.DataFrame(txn_eu_sim_matrix, columns=df_txn.index, index=df_txn.index)"
   ]
  },
  {
   "cell_type": "code",
   "execution_count": 81,
   "id": "cbdd40a4-7eed-4256-a2f0-d3ee18e7518a",
   "metadata": {
    "tags": []
   },
   "outputs": [
    {
     "data": {
      "text/html": [
       "<div>\n",
       "<style scoped>\n",
       "    .dataframe tbody tr th:only-of-type {\n",
       "        vertical-align: middle;\n",
       "    }\n",
       "\n",
       "    .dataframe tbody tr th {\n",
       "        vertical-align: top;\n",
       "    }\n",
       "\n",
       "    .dataframe thead th {\n",
       "        text-align: right;\n",
       "    }\n",
       "</style>\n",
       "<table border=\"1\" class=\"dataframe\">\n",
       "  <thead>\n",
       "    <tr style=\"text-align: right;\">\n",
       "      <th>id</th>\n",
       "      <th>11001-20220713-192-0</th>\n",
       "      <th>11001-20210629-297-0</th>\n",
       "      <th>11001-20220826-208-1</th>\n",
       "      <th>11001-20190221-139-1</th>\n",
       "      <th>11001-20220325-201-1</th>\n",
       "      <th>11001-20190822-116-0</th>\n",
       "      <th>11001-20181009-61-1</th>\n",
       "      <th>11001-20210119-468-1</th>\n",
       "      <th>11001-20211104-41-1</th>\n",
       "      <th>11001-20180705-225-1</th>\n",
       "      <th>...</th>\n",
       "      <th>51169-20220304-37-0</th>\n",
       "      <th>51059-20220126-836-0</th>\n",
       "      <th>51550-20210130-500-0</th>\n",
       "      <th>51059-20220610-39-0</th>\n",
       "      <th>51169-20190222-32-0</th>\n",
       "      <th>51169-20221125-636-0</th>\n",
       "      <th>51550-20210501-821-1</th>\n",
       "      <th>51550-20220606-428-0</th>\n",
       "      <th>51169-20220114-19-0</th>\n",
       "      <th>51169-20220603-33-1</th>\n",
       "    </tr>\n",
       "    <tr>\n",
       "      <th>id</th>\n",
       "      <th></th>\n",
       "      <th></th>\n",
       "      <th></th>\n",
       "      <th></th>\n",
       "      <th></th>\n",
       "      <th></th>\n",
       "      <th></th>\n",
       "      <th></th>\n",
       "      <th></th>\n",
       "      <th></th>\n",
       "      <th></th>\n",
       "      <th></th>\n",
       "      <th></th>\n",
       "      <th></th>\n",
       "      <th></th>\n",
       "      <th></th>\n",
       "      <th></th>\n",
       "      <th></th>\n",
       "      <th></th>\n",
       "      <th></th>\n",
       "      <th></th>\n",
       "    </tr>\n",
       "  </thead>\n",
       "  <tbody>\n",
       "    <tr>\n",
       "      <th>11001-20220713-192-0</th>\n",
       "      <td>0.000000</td>\n",
       "      <td>1.066429</td>\n",
       "      <td>1.439343</td>\n",
       "      <td>1.770914</td>\n",
       "      <td>0.936382</td>\n",
       "      <td>2.709047</td>\n",
       "      <td>2.660946</td>\n",
       "      <td>1.424946</td>\n",
       "      <td>2.351794</td>\n",
       "      <td>1.914146</td>\n",
       "      <td>...</td>\n",
       "      <td>4.849819</td>\n",
       "      <td>2.799900</td>\n",
       "      <td>3.646776</td>\n",
       "      <td>3.169590</td>\n",
       "      <td>4.795826</td>\n",
       "      <td>4.544970</td>\n",
       "      <td>3.931351</td>\n",
       "      <td>3.841130</td>\n",
       "      <td>5.035889</td>\n",
       "      <td>5.263213</td>\n",
       "    </tr>\n",
       "    <tr>\n",
       "      <th>11001-20210629-297-0</th>\n",
       "      <td>1.066429</td>\n",
       "      <td>0.000000</td>\n",
       "      <td>0.447337</td>\n",
       "      <td>2.433801</td>\n",
       "      <td>1.881857</td>\n",
       "      <td>3.416797</td>\n",
       "      <td>3.324779</td>\n",
       "      <td>2.350781</td>\n",
       "      <td>3.168819</td>\n",
       "      <td>2.446069</td>\n",
       "      <td>...</td>\n",
       "      <td>4.343588</td>\n",
       "      <td>2.529920</td>\n",
       "      <td>3.287122</td>\n",
       "      <td>2.828638</td>\n",
       "      <td>4.279944</td>\n",
       "      <td>4.070635</td>\n",
       "      <td>3.524903</td>\n",
       "      <td>3.406367</td>\n",
       "      <td>4.563001</td>\n",
       "      <td>4.792811</td>\n",
       "    </tr>\n",
       "    <tr>\n",
       "      <th>11001-20220826-208-1</th>\n",
       "      <td>1.439343</td>\n",
       "      <td>0.447337</td>\n",
       "      <td>0.000000</td>\n",
       "      <td>2.772945</td>\n",
       "      <td>2.216980</td>\n",
       "      <td>3.662028</td>\n",
       "      <td>3.545695</td>\n",
       "      <td>2.716862</td>\n",
       "      <td>3.531835</td>\n",
       "      <td>2.698635</td>\n",
       "      <td>...</td>\n",
       "      <td>4.245864</td>\n",
       "      <td>2.547958</td>\n",
       "      <td>3.265785</td>\n",
       "      <td>2.798153</td>\n",
       "      <td>4.183225</td>\n",
       "      <td>4.002991</td>\n",
       "      <td>3.517503</td>\n",
       "      <td>3.356962</td>\n",
       "      <td>4.502816</td>\n",
       "      <td>4.717193</td>\n",
       "    </tr>\n",
       "    <tr>\n",
       "      <th>11001-20190221-139-1</th>\n",
       "      <td>1.770914</td>\n",
       "      <td>2.433801</td>\n",
       "      <td>2.772945</td>\n",
       "      <td>0.000000</td>\n",
       "      <td>1.440226</td>\n",
       "      <td>1.394551</td>\n",
       "      <td>1.449377</td>\n",
       "      <td>0.816695</td>\n",
       "      <td>0.838784</td>\n",
       "      <td>0.684259</td>\n",
       "      <td>...</td>\n",
       "      <td>5.279830</td>\n",
       "      <td>2.721067</td>\n",
       "      <td>4.098521</td>\n",
       "      <td>3.109991</td>\n",
       "      <td>5.292199</td>\n",
       "      <td>5.163790</td>\n",
       "      <td>4.288253</td>\n",
       "      <td>4.298967</td>\n",
       "      <td>5.311428</td>\n",
       "      <td>5.424878</td>\n",
       "    </tr>\n",
       "    <tr>\n",
       "      <th>11001-20220325-201-1</th>\n",
       "      <td>0.936382</td>\n",
       "      <td>1.881857</td>\n",
       "      <td>2.216980</td>\n",
       "      <td>1.440226</td>\n",
       "      <td>0.000000</td>\n",
       "      <td>2.089270</td>\n",
       "      <td>2.082188</td>\n",
       "      <td>0.817692</td>\n",
       "      <td>1.818718</td>\n",
       "      <td>1.586149</td>\n",
       "      <td>...</td>\n",
       "      <td>5.362855</td>\n",
       "      <td>3.221458</td>\n",
       "      <td>4.098549</td>\n",
       "      <td>3.632741</td>\n",
       "      <td>5.319051</td>\n",
       "      <td>5.058904</td>\n",
       "      <td>4.436771</td>\n",
       "      <td>4.336971</td>\n",
       "      <td>5.551770</td>\n",
       "      <td>5.757692</td>\n",
       "    </tr>\n",
       "  </tbody>\n",
       "</table>\n",
       "<p>5 rows × 24054 columns</p>\n",
       "</div>"
      ],
      "text/plain": [
       "id                    11001-20220713-192-0  11001-20210629-297-0  \\\n",
       "id                                                                 \n",
       "11001-20220713-192-0              0.000000              1.066429   \n",
       "11001-20210629-297-0              1.066429              0.000000   \n",
       "11001-20220826-208-1              1.439343              0.447337   \n",
       "11001-20190221-139-1              1.770914              2.433801   \n",
       "11001-20220325-201-1              0.936382              1.881857   \n",
       "\n",
       "id                    11001-20220826-208-1  11001-20190221-139-1  \\\n",
       "id                                                                 \n",
       "11001-20220713-192-0              1.439343              1.770914   \n",
       "11001-20210629-297-0              0.447337              2.433801   \n",
       "11001-20220826-208-1              0.000000              2.772945   \n",
       "11001-20190221-139-1              2.772945              0.000000   \n",
       "11001-20220325-201-1              2.216980              1.440226   \n",
       "\n",
       "id                    11001-20220325-201-1  11001-20190822-116-0  \\\n",
       "id                                                                 \n",
       "11001-20220713-192-0              0.936382              2.709047   \n",
       "11001-20210629-297-0              1.881857              3.416797   \n",
       "11001-20220826-208-1              2.216980              3.662028   \n",
       "11001-20190221-139-1              1.440226              1.394551   \n",
       "11001-20220325-201-1              0.000000              2.089270   \n",
       "\n",
       "id                    11001-20181009-61-1  11001-20210119-468-1  \\\n",
       "id                                                                \n",
       "11001-20220713-192-0             2.660946              1.424946   \n",
       "11001-20210629-297-0             3.324779              2.350781   \n",
       "11001-20220826-208-1             3.545695              2.716862   \n",
       "11001-20190221-139-1             1.449377              0.816695   \n",
       "11001-20220325-201-1             2.082188              0.817692   \n",
       "\n",
       "id                    11001-20211104-41-1  11001-20180705-225-1  ...  \\\n",
       "id                                                               ...   \n",
       "11001-20220713-192-0             2.351794              1.914146  ...   \n",
       "11001-20210629-297-0             3.168819              2.446069  ...   \n",
       "11001-20220826-208-1             3.531835              2.698635  ...   \n",
       "11001-20190221-139-1             0.838784              0.684259  ...   \n",
       "11001-20220325-201-1             1.818718              1.586149  ...   \n",
       "\n",
       "id                    51169-20220304-37-0  51059-20220126-836-0  \\\n",
       "id                                                                \n",
       "11001-20220713-192-0             4.849819              2.799900   \n",
       "11001-20210629-297-0             4.343588              2.529920   \n",
       "11001-20220826-208-1             4.245864              2.547958   \n",
       "11001-20190221-139-1             5.279830              2.721067   \n",
       "11001-20220325-201-1             5.362855              3.221458   \n",
       "\n",
       "id                    51550-20210130-500-0  51059-20220610-39-0  \\\n",
       "id                                                                \n",
       "11001-20220713-192-0              3.646776             3.169590   \n",
       "11001-20210629-297-0              3.287122             2.828638   \n",
       "11001-20220826-208-1              3.265785             2.798153   \n",
       "11001-20190221-139-1              4.098521             3.109991   \n",
       "11001-20220325-201-1              4.098549             3.632741   \n",
       "\n",
       "id                    51169-20190222-32-0  51169-20221125-636-0  \\\n",
       "id                                                                \n",
       "11001-20220713-192-0             4.795826              4.544970   \n",
       "11001-20210629-297-0             4.279944              4.070635   \n",
       "11001-20220826-208-1             4.183225              4.002991   \n",
       "11001-20190221-139-1             5.292199              5.163790   \n",
       "11001-20220325-201-1             5.319051              5.058904   \n",
       "\n",
       "id                    51550-20210501-821-1  51550-20220606-428-0  \\\n",
       "id                                                                 \n",
       "11001-20220713-192-0              3.931351              3.841130   \n",
       "11001-20210629-297-0              3.524903              3.406367   \n",
       "11001-20220826-208-1              3.517503              3.356962   \n",
       "11001-20190221-139-1              4.288253              4.298967   \n",
       "11001-20220325-201-1              4.436771              4.336971   \n",
       "\n",
       "id                    51169-20220114-19-0  51169-20220603-33-1  \n",
       "id                                                              \n",
       "11001-20220713-192-0             5.035889             5.263213  \n",
       "11001-20210629-297-0             4.563001             4.792811  \n",
       "11001-20220826-208-1             4.502816             4.717193  \n",
       "11001-20190221-139-1             5.311428             5.424878  \n",
       "11001-20220325-201-1             5.551770             5.757692  \n",
       "\n",
       "[5 rows x 24054 columns]"
      ]
     },
     "execution_count": 81,
     "metadata": {},
     "output_type": "execute_result"
    }
   ],
   "source": [
    "txn_eu_sim.head()"
   ]
  },
  {
   "cell_type": "code",
   "execution_count": 82,
   "id": "9acc0885-bae2-4e6e-b888-9bdaa098b180",
   "metadata": {
    "tags": []
   },
   "outputs": [],
   "source": [
    "txn_eu_result = {'id':[], 'recs':[]}\n",
    "\n",
    "for idx, row in txn_eu_sim.iterrows():\n",
    "    data = txn_eu_sim[idx].sort_values(ascending=True).reset_index(name='euclidean_distance').head(11).tail(10).to_dict('records')\n",
    "    txn_eu_result['id'].append(idx)\n",
    "    txn_eu_result['recs'].append(data)"
   ]
  },
  {
   "cell_type": "code",
   "execution_count": 83,
   "id": "9d7a44d4-6615-4592-be25-f4d11394e0ea",
   "metadata": {
    "tags": []
   },
   "outputs": [],
   "source": [
    "df_txn_eu_result = pd.DataFrame(txn_eu_result)"
   ]
  },
  {
   "cell_type": "code",
   "execution_count": 84,
   "id": "d752f42d-8a6e-4ee6-a671-bb2902c07736",
   "metadata": {
    "tags": []
   },
   "outputs": [
    {
     "data": {
      "text/html": [
       "<div>\n",
       "<style scoped>\n",
       "    .dataframe tbody tr th:only-of-type {\n",
       "        vertical-align: middle;\n",
       "    }\n",
       "\n",
       "    .dataframe tbody tr th {\n",
       "        vertical-align: top;\n",
       "    }\n",
       "\n",
       "    .dataframe thead th {\n",
       "        text-align: right;\n",
       "    }\n",
       "</style>\n",
       "<table border=\"1\" class=\"dataframe\">\n",
       "  <thead>\n",
       "    <tr style=\"text-align: right;\">\n",
       "      <th></th>\n",
       "      <th>id</th>\n",
       "      <th>recs</th>\n",
       "    </tr>\n",
       "  </thead>\n",
       "  <tbody>\n",
       "    <tr>\n",
       "      <th>0</th>\n",
       "      <td>11001-20220713-192-0</td>\n",
       "      <td>[{'id': '11001-20220912-55-0', 'euclidean_dist...</td>\n",
       "    </tr>\n",
       "    <tr>\n",
       "      <th>1</th>\n",
       "      <td>11001-20210629-297-0</td>\n",
       "      <td>[{'id': '11001-20220819-72-1', 'euclidean_dist...</td>\n",
       "    </tr>\n",
       "    <tr>\n",
       "      <th>2</th>\n",
       "      <td>11001-20220826-208-1</td>\n",
       "      <td>[{'id': '11001-20200713-547-0', 'euclidean_dis...</td>\n",
       "    </tr>\n",
       "    <tr>\n",
       "      <th>3</th>\n",
       "      <td>11001-20190221-139-1</td>\n",
       "      <td>[{'id': '11001-20220824-106-1', 'euclidean_dis...</td>\n",
       "    </tr>\n",
       "    <tr>\n",
       "      <th>4</th>\n",
       "      <td>11001-20220325-201-1</td>\n",
       "      <td>[{'id': '11001-20211220-253-1', 'euclidean_dis...</td>\n",
       "    </tr>\n",
       "  </tbody>\n",
       "</table>\n",
       "</div>"
      ],
      "text/plain": [
       "                     id                                               recs\n",
       "0  11001-20220713-192-0  [{'id': '11001-20220912-55-0', 'euclidean_dist...\n",
       "1  11001-20210629-297-0  [{'id': '11001-20220819-72-1', 'euclidean_dist...\n",
       "2  11001-20220826-208-1  [{'id': '11001-20200713-547-0', 'euclidean_dis...\n",
       "3  11001-20190221-139-1  [{'id': '11001-20220824-106-1', 'euclidean_dis...\n",
       "4  11001-20220325-201-1  [{'id': '11001-20211220-253-1', 'euclidean_dis..."
      ]
     },
     "execution_count": 84,
     "metadata": {},
     "output_type": "execute_result"
    }
   ],
   "source": [
    "df_txn_eu_result.head()"
   ]
  },
  {
   "cell_type": "code",
   "execution_count": 85,
   "id": "8fcc22d0-7110-4ab4-b11a-3bdfa81bbd1a",
   "metadata": {
    "tags": []
   },
   "outputs": [],
   "source": [
    "df_txn_eu_result.to_csv('s3://{}/{}'.format(bucket, 'region_transaction_euclidean_sim_result_top10.csv'))"
   ]
  },
  {
   "cell_type": "code",
   "execution_count": null,
   "id": "894ab3d7-980a-4485-8acb-4b15b4493bde",
   "metadata": {},
   "outputs": [],
   "source": []
  }
 ],
 "metadata": {
  "instance_type": "ml.m5.2xlarge",
  "kernelspec": {
   "display_name": "Python 3 (Data Science)",
   "language": "python",
   "name": "python3__SAGEMAKER_INTERNAL__arn:aws:sagemaker:us-east-1:081325390199:image/datascience-1.0"
  },
  "language_info": {
   "codemirror_mode": {
    "name": "ipython",
    "version": 3
   },
   "file_extension": ".py",
   "mimetype": "text/x-python",
   "name": "python",
   "nbconvert_exporter": "python",
   "pygments_lexer": "ipython3",
   "version": "3.7.10"
  }
 },
 "nbformat": 4,
 "nbformat_minor": 5
}
