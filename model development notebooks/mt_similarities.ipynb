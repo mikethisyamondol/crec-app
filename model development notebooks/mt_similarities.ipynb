{
 "cells": [
  {
   "cell_type": "code",
   "execution_count": 58,
   "id": "4b355ecb-4c8c-475b-b0dd-8d5cde017f23",
   "metadata": {
    "tags": []
   },
   "outputs": [],
   "source": [
    "from IPython.display import clear_output"
   ]
  },
  {
   "cell_type": "code",
   "execution_count": 59,
   "id": "7824a417-f1f7-4e2c-9d01-8f3b68d45f44",
   "metadata": {
    "tags": []
   },
   "outputs": [],
   "source": [
    "import pandas as pd\n",
    "import numpy as np\n",
    "\n",
    "import json\n",
    "import ast\n",
    "import boto3\n",
    "from sagemaker import get_execution_role\n",
    "\n",
    "from sklearn.metrics.pairwise import cosine_similarity, euclidean_distances\n",
    "from sklearn.decomposition import TruncatedSVD"
   ]
  },
  {
   "cell_type": "markdown",
   "id": "16035190-8057-4bad-8cb2-a91b10516962",
   "metadata": {},
   "source": [
    "READ IN INPUT DATA FROM s3"
   ]
  },
  {
   "cell_type": "code",
   "execution_count": 60,
   "id": "a66d8502-08ab-4633-b409-07320d3ddaa8",
   "metadata": {
    "tags": []
   },
   "outputs": [],
   "source": [
    "role = get_execution_role()\n",
    "bucket='sagemaker-us-east-1-770526846351'"
   ]
  },
  {
   "cell_type": "code",
   "execution_count": 61,
   "id": "bb2b6df2-bdda-4f98-a7fd-b669bb794881",
   "metadata": {},
   "outputs": [],
   "source": [
    "train_location = 's3://{}/{}'.format(bucket, 'train.csv')\n",
    "test_location = 's3://{}/{}'.format(bucket, 'test.csv')\n",
    "\n",
    "df_train = pd.read_csv(train_location)\n",
    "df_test = pd.read_csv(test_location)"
   ]
  },
  {
   "cell_type": "code",
   "execution_count": 62,
   "id": "48d48558-8a68-42f7-a2e4-cbe3e074b2e3",
   "metadata": {},
   "outputs": [],
   "source": [
    "df = pd.concat([df_train, df_test])"
   ]
  },
  {
   "cell_type": "code",
   "execution_count": 63,
   "id": "f2bdb5eb-2087-4221-a8aa-cd13cd822907",
   "metadata": {
    "tags": []
   },
   "outputs": [],
   "source": [
    "investor_location = 's3://{}/{}'.format(bucket, 'investor_sim_input.csv')\n",
    "transaction_location = 's3://{}/{}'.format(bucket, 'transaction_sim_input.csv')\n",
    "\n",
    "df_investor = pd.read_csv(investor_location)\n",
    "df_txn = pd.read_csv(transaction_location)"
   ]
  },
  {
   "cell_type": "code",
   "execution_count": 64,
   "id": "a5aa4535-b82f-49d1-9598-6b10a093be33",
   "metadata": {
    "tags": []
   },
   "outputs": [],
   "source": [
    "df_investor = df_investor.set_index('buyerId')\n",
    "df_txn = df_txn.set_index('id')"
   ]
  },
  {
   "cell_type": "code",
   "execution_count": 65,
   "id": "2598bcd5-aef5-4601-a9ce-7edf1ebb0208",
   "metadata": {},
   "outputs": [],
   "source": [
    "df_txn = pd.merge(df_txn, df[['id', 'test']], on=['id'], how='inner')"
   ]
  },
  {
   "cell_type": "code",
   "execution_count": 66,
   "id": "1dd6c4a8-3df6-421f-8130-d19bc0fbfe42",
   "metadata": {
    "tags": []
   },
   "outputs": [
    {
     "data": {
      "text/html": [
       "<div>\n",
       "<style scoped>\n",
       "    .dataframe tbody tr th:only-of-type {\n",
       "        vertical-align: middle;\n",
       "    }\n",
       "\n",
       "    .dataframe tbody tr th {\n",
       "        vertical-align: top;\n",
       "    }\n",
       "\n",
       "    .dataframe thead th {\n",
       "        text-align: right;\n",
       "    }\n",
       "</style>\n",
       "<table border=\"1\" class=\"dataframe\">\n",
       "  <thead>\n",
       "    <tr style=\"text-align: right;\">\n",
       "      <th></th>\n",
       "      <th>id</th>\n",
       "      <th>0</th>\n",
       "      <th>1</th>\n",
       "      <th>2</th>\n",
       "      <th>3</th>\n",
       "      <th>4</th>\n",
       "      <th>5</th>\n",
       "      <th>6</th>\n",
       "      <th>7</th>\n",
       "      <th>test</th>\n",
       "    </tr>\n",
       "  </thead>\n",
       "  <tbody>\n",
       "    <tr>\n",
       "      <th>0</th>\n",
       "      <td>39113-20210226-3644-0</td>\n",
       "      <td>-0.301298</td>\n",
       "      <td>-0.546314</td>\n",
       "      <td>-0.104104</td>\n",
       "      <td>0.066825</td>\n",
       "      <td>-0.007681</td>\n",
       "      <td>0.039699</td>\n",
       "      <td>0.020044</td>\n",
       "      <td>-0.011568</td>\n",
       "      <td>0.0</td>\n",
       "    </tr>\n",
       "    <tr>\n",
       "      <th>1</th>\n",
       "      <td>39113-20210327-725-0</td>\n",
       "      <td>-0.303966</td>\n",
       "      <td>-0.560204</td>\n",
       "      <td>-0.100781</td>\n",
       "      <td>0.074098</td>\n",
       "      <td>-0.017417</td>\n",
       "      <td>0.046923</td>\n",
       "      <td>0.024052</td>\n",
       "      <td>-0.010863</td>\n",
       "      <td>0.0</td>\n",
       "    </tr>\n",
       "    <tr>\n",
       "      <th>2</th>\n",
       "      <td>39113-20220504-71-0</td>\n",
       "      <td>-0.212017</td>\n",
       "      <td>-0.154348</td>\n",
       "      <td>-0.122105</td>\n",
       "      <td>-0.015650</td>\n",
       "      <td>0.127444</td>\n",
       "      <td>-0.033579</td>\n",
       "      <td>-0.033286</td>\n",
       "      <td>-0.016304</td>\n",
       "      <td>0.0</td>\n",
       "    </tr>\n",
       "    <tr>\n",
       "      <th>3</th>\n",
       "      <td>39113-20210626-514-0</td>\n",
       "      <td>-0.306268</td>\n",
       "      <td>-0.567259</td>\n",
       "      <td>-0.106608</td>\n",
       "      <td>0.069344</td>\n",
       "      <td>-0.012742</td>\n",
       "      <td>0.041548</td>\n",
       "      <td>0.021907</td>\n",
       "      <td>-0.011514</td>\n",
       "      <td>0.0</td>\n",
       "    </tr>\n",
       "    <tr>\n",
       "      <th>4</th>\n",
       "      <td>39113-20220725-450-0</td>\n",
       "      <td>-0.199218</td>\n",
       "      <td>-0.102462</td>\n",
       "      <td>-0.115829</td>\n",
       "      <td>-0.018570</td>\n",
       "      <td>0.136025</td>\n",
       "      <td>-0.036113</td>\n",
       "      <td>-0.036573</td>\n",
       "      <td>-0.016369</td>\n",
       "      <td>0.0</td>\n",
       "    </tr>\n",
       "  </tbody>\n",
       "</table>\n",
       "</div>"
      ],
      "text/plain": [
       "                      id         0         1         2         3         4  \\\n",
       "0  39113-20210226-3644-0 -0.301298 -0.546314 -0.104104  0.066825 -0.007681   \n",
       "1   39113-20210327-725-0 -0.303966 -0.560204 -0.100781  0.074098 -0.017417   \n",
       "2    39113-20220504-71-0 -0.212017 -0.154348 -0.122105 -0.015650  0.127444   \n",
       "3   39113-20210626-514-0 -0.306268 -0.567259 -0.106608  0.069344 -0.012742   \n",
       "4   39113-20220725-450-0 -0.199218 -0.102462 -0.115829 -0.018570  0.136025   \n",
       "\n",
       "          5         6         7  test  \n",
       "0  0.039699  0.020044 -0.011568   0.0  \n",
       "1  0.046923  0.024052 -0.010863   0.0  \n",
       "2 -0.033579 -0.033286 -0.016304   0.0  \n",
       "3  0.041548  0.021907 -0.011514   0.0  \n",
       "4 -0.036113 -0.036573 -0.016369   0.0  "
      ]
     },
     "execution_count": 66,
     "metadata": {},
     "output_type": "execute_result"
    }
   ],
   "source": [
    "df_txn.head()"
   ]
  },
  {
   "cell_type": "markdown",
   "id": "d90c225c-bd9b-4f70-b30a-079ac277d903",
   "metadata": {},
   "source": [
    "SAMPLE (FOR TXNS)"
   ]
  },
  {
   "cell_type": "code",
   "execution_count": 10,
   "id": "0a95463a-d23e-4ad2-8f95-b266036b3cef",
   "metadata": {},
   "outputs": [],
   "source": [
    "# df_txn_sample = df_txn.groupby('test', group_keys=False).apply(lambda x: x.sample(frac=0.03))"
   ]
  },
  {
   "cell_type": "code",
   "execution_count": 11,
   "id": "06c12cc2-d2ec-4eac-a71f-2f4c448bbc9b",
   "metadata": {},
   "outputs": [],
   "source": [
    "# df_txn_sample = df_txn_sample.drop(['test'], axis=1)"
   ]
  },
  {
   "cell_type": "code",
   "execution_count": 12,
   "id": "9503baa6-460c-438a-8a2d-adec08877aa0",
   "metadata": {
    "tags": []
   },
   "outputs": [],
   "source": [
    "# df_txn_sample = df_txn_sample.set_index('id')"
   ]
  },
  {
   "cell_type": "code",
   "execution_count": 13,
   "id": "81874128-8baf-487c-a58e-16763bf12323",
   "metadata": {},
   "outputs": [],
   "source": [
    "# df_txn_sample.shape"
   ]
  },
  {
   "cell_type": "code",
   "execution_count": 14,
   "id": "b2784f38-78e5-4987-a524-c1be94b3210c",
   "metadata": {
    "tags": []
   },
   "outputs": [],
   "source": [
    "# df_txn_sample.head()"
   ]
  },
  {
   "cell_type": "markdown",
   "id": "9e95a33c-c06a-4f05-9150-4844af59d08e",
   "metadata": {},
   "source": [
    "TRANSACTION - COSINE SIMILARITY"
   ]
  },
  {
   "cell_type": "code",
   "execution_count": 15,
   "id": "8a562132-bdf8-4f9b-b5ea-0b69b0bb950a",
   "metadata": {
    "tags": []
   },
   "outputs": [],
   "source": [
    "# txn_sim_matrix = cosine_similarity(df_txn_sample)"
   ]
  },
  {
   "cell_type": "code",
   "execution_count": 16,
   "id": "9c928f57-a695-43eb-8779-0e0cf0922d0b",
   "metadata": {
    "tags": []
   },
   "outputs": [],
   "source": [
    "# txn_sim = pd.DataFrame(txn_sim_matrix, columns=df_txn_sample.index, index=df_txn_sample.index)"
   ]
  },
  {
   "cell_type": "code",
   "execution_count": 17,
   "id": "d1e6ad3c-c674-470c-b322-6e92efa01325",
   "metadata": {
    "tags": []
   },
   "outputs": [],
   "source": [
    "# txn_sim.head()"
   ]
  },
  {
   "cell_type": "code",
   "execution_count": 18,
   "id": "23df90ec-3eee-403c-92ae-1074479ed2b0",
   "metadata": {
    "tags": []
   },
   "outputs": [],
   "source": [
    "# txn_sim.memory_usage(deep=True).sum()/1000000000.0"
   ]
  },
  {
   "cell_type": "code",
   "execution_count": 19,
   "id": "8a1fae4f-4201-4120-84ac-2c5b059810b4",
   "metadata": {
    "tags": []
   },
   "outputs": [],
   "source": [
    "# txn_result = {'id':[], 'recs':[]}\n",
    "\n",
    "# for idx, row in txn_sim.iterrows():\n",
    "#     data = txn_sim[idx].sort_values(ascending=False).reset_index(name='cosine_score').head(6).tail(5).to_dict('records')\n",
    "#     txn_result['id'].append(idx)\n",
    "#     txn_result['recs'].append(data)"
   ]
  },
  {
   "cell_type": "code",
   "execution_count": 20,
   "id": "e13a82ee-2440-4ef1-960f-f0f6f0803c3d",
   "metadata": {
    "tags": []
   },
   "outputs": [],
   "source": [
    "# df_txn_result = pd.DataFrame(txn_result)"
   ]
  },
  {
   "cell_type": "code",
   "execution_count": 21,
   "id": "1a375869-78ae-4212-8e6b-050871976e16",
   "metadata": {
    "tags": []
   },
   "outputs": [],
   "source": [
    "# df_txn_result.head()"
   ]
  },
  {
   "cell_type": "code",
   "execution_count": 22,
   "id": "81891d83-7b67-459e-8a9d-bb29c09756bc",
   "metadata": {
    "tags": []
   },
   "outputs": [],
   "source": [
    "# df_txn_result.to_csv('s3://{}/{}'.format(bucket, 'transaction_cosine_sim_result.csv'))"
   ]
  },
  {
   "cell_type": "markdown",
   "id": "632026a0-213b-40ff-b1e8-6441de9e6e54",
   "metadata": {},
   "source": [
    "TRANSACTION - EUCLIDEAN"
   ]
  },
  {
   "cell_type": "code",
   "execution_count": 23,
   "id": "11303c0e-1e64-48ec-9ce0-f3f8ec791d0f",
   "metadata": {
    "tags": []
   },
   "outputs": [],
   "source": [
    "# txn_eu_sim_matrix = euclidean_distances(df_txn_sample)"
   ]
  },
  {
   "cell_type": "code",
   "execution_count": 24,
   "id": "99f7781a-7751-4bba-9672-f256f0be3557",
   "metadata": {
    "tags": []
   },
   "outputs": [],
   "source": [
    "# txn_eu_sim = pd.DataFrame(txn_eu_sim_matrix, columns=df_txn_sample.index, index=df_txn_sample.index)"
   ]
  },
  {
   "cell_type": "code",
   "execution_count": 25,
   "id": "2269260e-da2c-47ad-b8b8-887af7df0b19",
   "metadata": {
    "tags": []
   },
   "outputs": [],
   "source": [
    "# txn_eu_sim.head()"
   ]
  },
  {
   "cell_type": "code",
   "execution_count": 26,
   "id": "d9e09f36-958c-4544-937e-cdd79798f409",
   "metadata": {
    "tags": []
   },
   "outputs": [],
   "source": [
    "# txn_eu_result = {'id':[], 'recs':[]}\n",
    "\n",
    "# for idx, row in txn_eu_sim.iterrows():\n",
    "#     data = txn_eu_sim[idx].sort_values(ascending=True).reset_index(name='euclidean_distance').head(6).tail(5).to_dict('records')\n",
    "#     txn_eu_result['id'].append(idx)\n",
    "#     txn_eu_result['recs'].append(data)"
   ]
  },
  {
   "cell_type": "code",
   "execution_count": 27,
   "id": "8550075c-4bf9-4af6-adf3-d28574af66ab",
   "metadata": {
    "tags": []
   },
   "outputs": [],
   "source": [
    "# df_txn_eu_result = pd.DataFrame(txn_eu_result)"
   ]
  },
  {
   "cell_type": "code",
   "execution_count": 28,
   "id": "33fe13f1-3788-43a6-ba47-3e46085c5380",
   "metadata": {
    "tags": []
   },
   "outputs": [],
   "source": [
    "# df_txn_eu_result.head()"
   ]
  },
  {
   "cell_type": "code",
   "execution_count": 29,
   "id": "dfc01843-8931-406b-8833-9eaa63497678",
   "metadata": {
    "tags": []
   },
   "outputs": [],
   "source": [
    "# df_txn_eu_result.to_csv('s3://{}/{}'.format(bucket, 'transaction_euclidean_sim_result.csv'))"
   ]
  },
  {
   "cell_type": "markdown",
   "id": "7a625dc8-4137-45a2-a7cc-bb3abf0da67d",
   "metadata": {},
   "source": [
    "INVESTORS - COSINE"
   ]
  },
  {
   "cell_type": "code",
   "execution_count": 67,
   "id": "04b5a9e3-a0c8-4cc8-8216-ffd4c00d13c6",
   "metadata": {
    "tags": []
   },
   "outputs": [
    {
     "data": {
      "text/plain": [
       "(17650, 20)"
      ]
     },
     "execution_count": 67,
     "metadata": {},
     "output_type": "execute_result"
    }
   ],
   "source": [
    "df_investor.shape"
   ]
  },
  {
   "cell_type": "code",
   "execution_count": 68,
   "id": "693542f6-c3aa-4826-b70c-5201391a2c9a",
   "metadata": {
    "tags": []
   },
   "outputs": [],
   "source": [
    "inv_sim_matrix = cosine_similarity(df_investor)"
   ]
  },
  {
   "cell_type": "code",
   "execution_count": 69,
   "id": "7ac6f2d5-b455-4f61-8f25-8fdee6210498",
   "metadata": {
    "tags": []
   },
   "outputs": [],
   "source": [
    "inv_sim = pd.DataFrame(inv_sim_matrix, columns=df_investor.index, index=df_investor.index)"
   ]
  },
  {
   "cell_type": "code",
   "execution_count": 70,
   "id": "12f6d3af-6cc1-4082-8b81-37a285108883",
   "metadata": {
    "tags": []
   },
   "outputs": [
    {
     "data": {
      "text/html": [
       "<div>\n",
       "<style scoped>\n",
       "    .dataframe tbody tr th:only-of-type {\n",
       "        vertical-align: middle;\n",
       "    }\n",
       "\n",
       "    .dataframe tbody tr th {\n",
       "        vertical-align: top;\n",
       "    }\n",
       "\n",
       "    .dataframe thead th {\n",
       "        text-align: right;\n",
       "    }\n",
       "</style>\n",
       "<table border=\"1\" class=\"dataframe\">\n",
       "  <thead>\n",
       "    <tr style=\"text-align: right;\">\n",
       "      <th>buyerId</th>\n",
       "      <th>00074b1019380cc21471e2a46825c1fe</th>\n",
       "      <th>0007fba1809a022de16900e96add9515</th>\n",
       "      <th>0015cc309601fe8731febcc98fc7f6c2</th>\n",
       "      <th>001a5216b4a83da8dd43f76628258482</th>\n",
       "      <th>001bcb3fd35ccd4829fe2ebc7caeb142</th>\n",
       "      <th>002332ae8a612bdc3fbf78c98815afe4</th>\n",
       "      <th>0028484c48ed26f0b73caef882961cab</th>\n",
       "      <th>002e8cf8b2ca3d11c32412359e745c9c</th>\n",
       "      <th>0036f3877643d85c8194950565bc3517</th>\n",
       "      <th>003fb17e4d126dbec5a293facbed2210</th>\n",
       "      <th>...</th>\n",
       "      <th>ffd680795a380a4c35e200aef3357d80</th>\n",
       "      <th>ffd78b241cd95c113cf294211df954a2</th>\n",
       "      <th>ffe6d9c4a1a4f3fc65f15e011ad05d02</th>\n",
       "      <th>ffe6e23923627b67888e38941ac06aad</th>\n",
       "      <th>ffeb0fd7120ff6033c6115aa191b5835</th>\n",
       "      <th>ffebf39a17d11d62989632ca21db8727</th>\n",
       "      <th>fff12327cbe35326fdbc477345b6af79</th>\n",
       "      <th>fff540d19e154474992853d62709846e</th>\n",
       "      <th>fff918f6975aeebb75ca4b64727bb989</th>\n",
       "      <th>fffa6b9a171611c1c04039318f81cdf6</th>\n",
       "    </tr>\n",
       "    <tr>\n",
       "      <th>buyerId</th>\n",
       "      <th></th>\n",
       "      <th></th>\n",
       "      <th></th>\n",
       "      <th></th>\n",
       "      <th></th>\n",
       "      <th></th>\n",
       "      <th></th>\n",
       "      <th></th>\n",
       "      <th></th>\n",
       "      <th></th>\n",
       "      <th></th>\n",
       "      <th></th>\n",
       "      <th></th>\n",
       "      <th></th>\n",
       "      <th></th>\n",
       "      <th></th>\n",
       "      <th></th>\n",
       "      <th></th>\n",
       "      <th></th>\n",
       "      <th></th>\n",
       "      <th></th>\n",
       "    </tr>\n",
       "  </thead>\n",
       "  <tbody>\n",
       "    <tr>\n",
       "      <th>00074b1019380cc21471e2a46825c1fe</th>\n",
       "      <td>1.000000</td>\n",
       "      <td>0.044892</td>\n",
       "      <td>0.205812</td>\n",
       "      <td>-0.211854</td>\n",
       "      <td>0.257362</td>\n",
       "      <td>-0.014501</td>\n",
       "      <td>-0.372045</td>\n",
       "      <td>0.042619</td>\n",
       "      <td>0.089257</td>\n",
       "      <td>-0.000117</td>\n",
       "      <td>...</td>\n",
       "      <td>-0.449192</td>\n",
       "      <td>0.142505</td>\n",
       "      <td>-0.541869</td>\n",
       "      <td>0.208961</td>\n",
       "      <td>-0.036234</td>\n",
       "      <td>-0.176600</td>\n",
       "      <td>-0.019108</td>\n",
       "      <td>-0.188713</td>\n",
       "      <td>-0.213455</td>\n",
       "      <td>0.332207</td>\n",
       "    </tr>\n",
       "    <tr>\n",
       "      <th>0007fba1809a022de16900e96add9515</th>\n",
       "      <td>0.044892</td>\n",
       "      <td>1.000000</td>\n",
       "      <td>0.640293</td>\n",
       "      <td>-0.680210</td>\n",
       "      <td>0.073118</td>\n",
       "      <td>-0.420529</td>\n",
       "      <td>-0.323810</td>\n",
       "      <td>-0.165774</td>\n",
       "      <td>0.432671</td>\n",
       "      <td>0.673981</td>\n",
       "      <td>...</td>\n",
       "      <td>0.296743</td>\n",
       "      <td>0.538509</td>\n",
       "      <td>0.204224</td>\n",
       "      <td>0.593982</td>\n",
       "      <td>-0.298573</td>\n",
       "      <td>-0.728214</td>\n",
       "      <td>-0.371327</td>\n",
       "      <td>-0.603834</td>\n",
       "      <td>-0.124945</td>\n",
       "      <td>0.608118</td>\n",
       "    </tr>\n",
       "    <tr>\n",
       "      <th>0015cc309601fe8731febcc98fc7f6c2</th>\n",
       "      <td>0.205812</td>\n",
       "      <td>0.640293</td>\n",
       "      <td>1.000000</td>\n",
       "      <td>-0.901714</td>\n",
       "      <td>-0.014295</td>\n",
       "      <td>-0.647725</td>\n",
       "      <td>-0.260297</td>\n",
       "      <td>-0.421844</td>\n",
       "      <td>0.685231</td>\n",
       "      <td>0.877613</td>\n",
       "      <td>...</td>\n",
       "      <td>0.235883</td>\n",
       "      <td>0.799204</td>\n",
       "      <td>0.190930</td>\n",
       "      <td>0.965939</td>\n",
       "      <td>-0.583992</td>\n",
       "      <td>-0.893408</td>\n",
       "      <td>-0.631174</td>\n",
       "      <td>-0.795986</td>\n",
       "      <td>0.176729</td>\n",
       "      <td>0.900367</td>\n",
       "    </tr>\n",
       "    <tr>\n",
       "      <th>001a5216b4a83da8dd43f76628258482</th>\n",
       "      <td>-0.211854</td>\n",
       "      <td>-0.680210</td>\n",
       "      <td>-0.901714</td>\n",
       "      <td>1.000000</td>\n",
       "      <td>0.247036</td>\n",
       "      <td>0.795857</td>\n",
       "      <td>0.334627</td>\n",
       "      <td>0.538867</td>\n",
       "      <td>-0.554224</td>\n",
       "      <td>-0.933717</td>\n",
       "      <td>...</td>\n",
       "      <td>-0.310702</td>\n",
       "      <td>-0.843218</td>\n",
       "      <td>-0.194063</td>\n",
       "      <td>-0.937814</td>\n",
       "      <td>0.698302</td>\n",
       "      <td>0.983147</td>\n",
       "      <td>0.744815</td>\n",
       "      <td>0.958382</td>\n",
       "      <td>-0.202644</td>\n",
       "      <td>-0.904770</td>\n",
       "    </tr>\n",
       "    <tr>\n",
       "      <th>001bcb3fd35ccd4829fe2ebc7caeb142</th>\n",
       "      <td>0.257362</td>\n",
       "      <td>0.073118</td>\n",
       "      <td>-0.014295</td>\n",
       "      <td>0.247036</td>\n",
       "      <td>1.000000</td>\n",
       "      <td>0.738133</td>\n",
       "      <td>0.172194</td>\n",
       "      <td>0.845882</td>\n",
       "      <td>0.105211</td>\n",
       "      <td>-0.217263</td>\n",
       "      <td>...</td>\n",
       "      <td>-0.149891</td>\n",
       "      <td>0.092580</td>\n",
       "      <td>0.138939</td>\n",
       "      <td>-0.111288</td>\n",
       "      <td>0.764730</td>\n",
       "      <td>0.159331</td>\n",
       "      <td>0.731106</td>\n",
       "      <td>0.302053</td>\n",
       "      <td>-0.184464</td>\n",
       "      <td>0.047801</td>\n",
       "    </tr>\n",
       "  </tbody>\n",
       "</table>\n",
       "<p>5 rows × 17650 columns</p>\n",
       "</div>"
      ],
      "text/plain": [
       "buyerId                           00074b1019380cc21471e2a46825c1fe  \\\n",
       "buyerId                                                              \n",
       "00074b1019380cc21471e2a46825c1fe                          1.000000   \n",
       "0007fba1809a022de16900e96add9515                          0.044892   \n",
       "0015cc309601fe8731febcc98fc7f6c2                          0.205812   \n",
       "001a5216b4a83da8dd43f76628258482                         -0.211854   \n",
       "001bcb3fd35ccd4829fe2ebc7caeb142                          0.257362   \n",
       "\n",
       "buyerId                           0007fba1809a022de16900e96add9515  \\\n",
       "buyerId                                                              \n",
       "00074b1019380cc21471e2a46825c1fe                          0.044892   \n",
       "0007fba1809a022de16900e96add9515                          1.000000   \n",
       "0015cc309601fe8731febcc98fc7f6c2                          0.640293   \n",
       "001a5216b4a83da8dd43f76628258482                         -0.680210   \n",
       "001bcb3fd35ccd4829fe2ebc7caeb142                          0.073118   \n",
       "\n",
       "buyerId                           0015cc309601fe8731febcc98fc7f6c2  \\\n",
       "buyerId                                                              \n",
       "00074b1019380cc21471e2a46825c1fe                          0.205812   \n",
       "0007fba1809a022de16900e96add9515                          0.640293   \n",
       "0015cc309601fe8731febcc98fc7f6c2                          1.000000   \n",
       "001a5216b4a83da8dd43f76628258482                         -0.901714   \n",
       "001bcb3fd35ccd4829fe2ebc7caeb142                         -0.014295   \n",
       "\n",
       "buyerId                           001a5216b4a83da8dd43f76628258482  \\\n",
       "buyerId                                                              \n",
       "00074b1019380cc21471e2a46825c1fe                         -0.211854   \n",
       "0007fba1809a022de16900e96add9515                         -0.680210   \n",
       "0015cc309601fe8731febcc98fc7f6c2                         -0.901714   \n",
       "001a5216b4a83da8dd43f76628258482                          1.000000   \n",
       "001bcb3fd35ccd4829fe2ebc7caeb142                          0.247036   \n",
       "\n",
       "buyerId                           001bcb3fd35ccd4829fe2ebc7caeb142  \\\n",
       "buyerId                                                              \n",
       "00074b1019380cc21471e2a46825c1fe                          0.257362   \n",
       "0007fba1809a022de16900e96add9515                          0.073118   \n",
       "0015cc309601fe8731febcc98fc7f6c2                         -0.014295   \n",
       "001a5216b4a83da8dd43f76628258482                          0.247036   \n",
       "001bcb3fd35ccd4829fe2ebc7caeb142                          1.000000   \n",
       "\n",
       "buyerId                           002332ae8a612bdc3fbf78c98815afe4  \\\n",
       "buyerId                                                              \n",
       "00074b1019380cc21471e2a46825c1fe                         -0.014501   \n",
       "0007fba1809a022de16900e96add9515                         -0.420529   \n",
       "0015cc309601fe8731febcc98fc7f6c2                         -0.647725   \n",
       "001a5216b4a83da8dd43f76628258482                          0.795857   \n",
       "001bcb3fd35ccd4829fe2ebc7caeb142                          0.738133   \n",
       "\n",
       "buyerId                           0028484c48ed26f0b73caef882961cab  \\\n",
       "buyerId                                                              \n",
       "00074b1019380cc21471e2a46825c1fe                         -0.372045   \n",
       "0007fba1809a022de16900e96add9515                         -0.323810   \n",
       "0015cc309601fe8731febcc98fc7f6c2                         -0.260297   \n",
       "001a5216b4a83da8dd43f76628258482                          0.334627   \n",
       "001bcb3fd35ccd4829fe2ebc7caeb142                          0.172194   \n",
       "\n",
       "buyerId                           002e8cf8b2ca3d11c32412359e745c9c  \\\n",
       "buyerId                                                              \n",
       "00074b1019380cc21471e2a46825c1fe                          0.042619   \n",
       "0007fba1809a022de16900e96add9515                         -0.165774   \n",
       "0015cc309601fe8731febcc98fc7f6c2                         -0.421844   \n",
       "001a5216b4a83da8dd43f76628258482                          0.538867   \n",
       "001bcb3fd35ccd4829fe2ebc7caeb142                          0.845882   \n",
       "\n",
       "buyerId                           0036f3877643d85c8194950565bc3517  \\\n",
       "buyerId                                                              \n",
       "00074b1019380cc21471e2a46825c1fe                          0.089257   \n",
       "0007fba1809a022de16900e96add9515                          0.432671   \n",
       "0015cc309601fe8731febcc98fc7f6c2                          0.685231   \n",
       "001a5216b4a83da8dd43f76628258482                         -0.554224   \n",
       "001bcb3fd35ccd4829fe2ebc7caeb142                          0.105211   \n",
       "\n",
       "buyerId                           003fb17e4d126dbec5a293facbed2210  ...  \\\n",
       "buyerId                                                             ...   \n",
       "00074b1019380cc21471e2a46825c1fe                         -0.000117  ...   \n",
       "0007fba1809a022de16900e96add9515                          0.673981  ...   \n",
       "0015cc309601fe8731febcc98fc7f6c2                          0.877613  ...   \n",
       "001a5216b4a83da8dd43f76628258482                         -0.933717  ...   \n",
       "001bcb3fd35ccd4829fe2ebc7caeb142                         -0.217263  ...   \n",
       "\n",
       "buyerId                           ffd680795a380a4c35e200aef3357d80  \\\n",
       "buyerId                                                              \n",
       "00074b1019380cc21471e2a46825c1fe                         -0.449192   \n",
       "0007fba1809a022de16900e96add9515                          0.296743   \n",
       "0015cc309601fe8731febcc98fc7f6c2                          0.235883   \n",
       "001a5216b4a83da8dd43f76628258482                         -0.310702   \n",
       "001bcb3fd35ccd4829fe2ebc7caeb142                         -0.149891   \n",
       "\n",
       "buyerId                           ffd78b241cd95c113cf294211df954a2  \\\n",
       "buyerId                                                              \n",
       "00074b1019380cc21471e2a46825c1fe                          0.142505   \n",
       "0007fba1809a022de16900e96add9515                          0.538509   \n",
       "0015cc309601fe8731febcc98fc7f6c2                          0.799204   \n",
       "001a5216b4a83da8dd43f76628258482                         -0.843218   \n",
       "001bcb3fd35ccd4829fe2ebc7caeb142                          0.092580   \n",
       "\n",
       "buyerId                           ffe6d9c4a1a4f3fc65f15e011ad05d02  \\\n",
       "buyerId                                                              \n",
       "00074b1019380cc21471e2a46825c1fe                         -0.541869   \n",
       "0007fba1809a022de16900e96add9515                          0.204224   \n",
       "0015cc309601fe8731febcc98fc7f6c2                          0.190930   \n",
       "001a5216b4a83da8dd43f76628258482                         -0.194063   \n",
       "001bcb3fd35ccd4829fe2ebc7caeb142                          0.138939   \n",
       "\n",
       "buyerId                           ffe6e23923627b67888e38941ac06aad  \\\n",
       "buyerId                                                              \n",
       "00074b1019380cc21471e2a46825c1fe                          0.208961   \n",
       "0007fba1809a022de16900e96add9515                          0.593982   \n",
       "0015cc309601fe8731febcc98fc7f6c2                          0.965939   \n",
       "001a5216b4a83da8dd43f76628258482                         -0.937814   \n",
       "001bcb3fd35ccd4829fe2ebc7caeb142                         -0.111288   \n",
       "\n",
       "buyerId                           ffeb0fd7120ff6033c6115aa191b5835  \\\n",
       "buyerId                                                              \n",
       "00074b1019380cc21471e2a46825c1fe                         -0.036234   \n",
       "0007fba1809a022de16900e96add9515                         -0.298573   \n",
       "0015cc309601fe8731febcc98fc7f6c2                         -0.583992   \n",
       "001a5216b4a83da8dd43f76628258482                          0.698302   \n",
       "001bcb3fd35ccd4829fe2ebc7caeb142                          0.764730   \n",
       "\n",
       "buyerId                           ffebf39a17d11d62989632ca21db8727  \\\n",
       "buyerId                                                              \n",
       "00074b1019380cc21471e2a46825c1fe                         -0.176600   \n",
       "0007fba1809a022de16900e96add9515                         -0.728214   \n",
       "0015cc309601fe8731febcc98fc7f6c2                         -0.893408   \n",
       "001a5216b4a83da8dd43f76628258482                          0.983147   \n",
       "001bcb3fd35ccd4829fe2ebc7caeb142                          0.159331   \n",
       "\n",
       "buyerId                           fff12327cbe35326fdbc477345b6af79  \\\n",
       "buyerId                                                              \n",
       "00074b1019380cc21471e2a46825c1fe                         -0.019108   \n",
       "0007fba1809a022de16900e96add9515                         -0.371327   \n",
       "0015cc309601fe8731febcc98fc7f6c2                         -0.631174   \n",
       "001a5216b4a83da8dd43f76628258482                          0.744815   \n",
       "001bcb3fd35ccd4829fe2ebc7caeb142                          0.731106   \n",
       "\n",
       "buyerId                           fff540d19e154474992853d62709846e  \\\n",
       "buyerId                                                              \n",
       "00074b1019380cc21471e2a46825c1fe                         -0.188713   \n",
       "0007fba1809a022de16900e96add9515                         -0.603834   \n",
       "0015cc309601fe8731febcc98fc7f6c2                         -0.795986   \n",
       "001a5216b4a83da8dd43f76628258482                          0.958382   \n",
       "001bcb3fd35ccd4829fe2ebc7caeb142                          0.302053   \n",
       "\n",
       "buyerId                           fff918f6975aeebb75ca4b64727bb989  \\\n",
       "buyerId                                                              \n",
       "00074b1019380cc21471e2a46825c1fe                         -0.213455   \n",
       "0007fba1809a022de16900e96add9515                         -0.124945   \n",
       "0015cc309601fe8731febcc98fc7f6c2                          0.176729   \n",
       "001a5216b4a83da8dd43f76628258482                         -0.202644   \n",
       "001bcb3fd35ccd4829fe2ebc7caeb142                         -0.184464   \n",
       "\n",
       "buyerId                           fffa6b9a171611c1c04039318f81cdf6  \n",
       "buyerId                                                             \n",
       "00074b1019380cc21471e2a46825c1fe                          0.332207  \n",
       "0007fba1809a022de16900e96add9515                          0.608118  \n",
       "0015cc309601fe8731febcc98fc7f6c2                          0.900367  \n",
       "001a5216b4a83da8dd43f76628258482                         -0.904770  \n",
       "001bcb3fd35ccd4829fe2ebc7caeb142                          0.047801  \n",
       "\n",
       "[5 rows x 17650 columns]"
      ]
     },
     "execution_count": 70,
     "metadata": {},
     "output_type": "execute_result"
    }
   ],
   "source": [
    "inv_sim.head()"
   ]
  },
  {
   "cell_type": "code",
   "execution_count": 71,
   "id": "f5b7d0da-fbc2-4f1d-b2fc-90f27146f1b4",
   "metadata": {
    "tags": []
   },
   "outputs": [
    {
     "data": {
      "text/plain": [
       "buyerId\n",
       "00074b1019380cc21471e2a46825c1fe    1.000000\n",
       "d70f1f818b2ae4bb8e9d7ca0bf9482c1    0.999532\n",
       "ee3bb2cd4939a7fee42456a4689655da    0.999506\n",
       "81dd7903a915c913e12d7111d0d8aead    0.999110\n",
       "f1fb53c2aed1c16786d7e7f10199748e    0.999093\n",
       "137dbc2ce89537f1ed1a2354d7ee55b8    0.999086\n",
       "Name: 00074b1019380cc21471e2a46825c1fe, dtype: float64"
      ]
     },
     "execution_count": 71,
     "metadata": {},
     "output_type": "execute_result"
    }
   ],
   "source": [
    "inv_sim['00074b1019380cc21471e2a46825c1fe'].sort_values(ascending=False).head(6)"
   ]
  },
  {
   "cell_type": "code",
   "execution_count": 72,
   "id": "a039ef12-91e8-4473-8554-a2c896504972",
   "metadata": {
    "tags": []
   },
   "outputs": [],
   "source": [
    "inv_result = {'buyerId':[], 'recs':[]}\n",
    "\n",
    "for idx, row in inv_sim.iterrows():\n",
    "    data = inv_sim[idx].sort_values(ascending=False).reset_index(name='cosine_score').head(11).tail(10).to_dict('records')\n",
    "    inv_result['buyerId'].append(idx)\n",
    "    inv_result['recs'].append(data)"
   ]
  },
  {
   "cell_type": "code",
   "execution_count": 73,
   "id": "4c6dfe0c-1dc1-4653-9448-59940a146a55",
   "metadata": {
    "tags": []
   },
   "outputs": [],
   "source": [
    "df_inv_result = pd.DataFrame(inv_result)"
   ]
  },
  {
   "cell_type": "code",
   "execution_count": 75,
   "id": "c856e9ac-7025-4595-9a21-2774ba276c43",
   "metadata": {
    "tags": []
   },
   "outputs": [
    {
     "data": {
      "text/html": [
       "<div>\n",
       "<style scoped>\n",
       "    .dataframe tbody tr th:only-of-type {\n",
       "        vertical-align: middle;\n",
       "    }\n",
       "\n",
       "    .dataframe tbody tr th {\n",
       "        vertical-align: top;\n",
       "    }\n",
       "\n",
       "    .dataframe thead th {\n",
       "        text-align: right;\n",
       "    }\n",
       "</style>\n",
       "<table border=\"1\" class=\"dataframe\">\n",
       "  <thead>\n",
       "    <tr style=\"text-align: right;\">\n",
       "      <th></th>\n",
       "      <th>buyerId</th>\n",
       "      <th>recs</th>\n",
       "    </tr>\n",
       "  </thead>\n",
       "  <tbody>\n",
       "    <tr>\n",
       "      <th>0</th>\n",
       "      <td>00074b1019380cc21471e2a46825c1fe</td>\n",
       "      <td>[{'buyerId': 'd70f1f818b2ae4bb8e9d7ca0bf9482c1...</td>\n",
       "    </tr>\n",
       "    <tr>\n",
       "      <th>1</th>\n",
       "      <td>0007fba1809a022de16900e96add9515</td>\n",
       "      <td>[{'buyerId': 'f0a7a165a818a7c7b0773bdd158b75c4...</td>\n",
       "    </tr>\n",
       "    <tr>\n",
       "      <th>2</th>\n",
       "      <td>0015cc309601fe8731febcc98fc7f6c2</td>\n",
       "      <td>[{'buyerId': 'c55c9fdfe4c8f1dda3dc64be67d23eb1...</td>\n",
       "    </tr>\n",
       "    <tr>\n",
       "      <th>3</th>\n",
       "      <td>001a5216b4a83da8dd43f76628258482</td>\n",
       "      <td>[{'buyerId': '54242d7fd6b86a032aeb68cfb3639026...</td>\n",
       "    </tr>\n",
       "    <tr>\n",
       "      <th>4</th>\n",
       "      <td>001bcb3fd35ccd4829fe2ebc7caeb142</td>\n",
       "      <td>[{'buyerId': 'd5fd764377cb4c0b448a117671832299...</td>\n",
       "    </tr>\n",
       "    <tr>\n",
       "      <th>5</th>\n",
       "      <td>002332ae8a612bdc3fbf78c98815afe4</td>\n",
       "      <td>[{'buyerId': '6dce7ed95b2ff0bc420aa66c86c8bb54...</td>\n",
       "    </tr>\n",
       "    <tr>\n",
       "      <th>6</th>\n",
       "      <td>0028484c48ed26f0b73caef882961cab</td>\n",
       "      <td>[{'buyerId': '0fbc1d223fbbb6459cdd74c5b131eb7b...</td>\n",
       "    </tr>\n",
       "    <tr>\n",
       "      <th>7</th>\n",
       "      <td>002e8cf8b2ca3d11c32412359e745c9c</td>\n",
       "      <td>[{'buyerId': 'ac2fdb74000ec4ffdd016220c536d4bf...</td>\n",
       "    </tr>\n",
       "    <tr>\n",
       "      <th>8</th>\n",
       "      <td>0036f3877643d85c8194950565bc3517</td>\n",
       "      <td>[{'buyerId': 'f809686977c06165789a37a68932f830...</td>\n",
       "    </tr>\n",
       "    <tr>\n",
       "      <th>9</th>\n",
       "      <td>003fb17e4d126dbec5a293facbed2210</td>\n",
       "      <td>[{'buyerId': 'c7c431fe57e65688fb28b7cb53ce1d83...</td>\n",
       "    </tr>\n",
       "  </tbody>\n",
       "</table>\n",
       "</div>"
      ],
      "text/plain": [
       "                            buyerId  \\\n",
       "0  00074b1019380cc21471e2a46825c1fe   \n",
       "1  0007fba1809a022de16900e96add9515   \n",
       "2  0015cc309601fe8731febcc98fc7f6c2   \n",
       "3  001a5216b4a83da8dd43f76628258482   \n",
       "4  001bcb3fd35ccd4829fe2ebc7caeb142   \n",
       "5  002332ae8a612bdc3fbf78c98815afe4   \n",
       "6  0028484c48ed26f0b73caef882961cab   \n",
       "7  002e8cf8b2ca3d11c32412359e745c9c   \n",
       "8  0036f3877643d85c8194950565bc3517   \n",
       "9  003fb17e4d126dbec5a293facbed2210   \n",
       "\n",
       "                                                recs  \n",
       "0  [{'buyerId': 'd70f1f818b2ae4bb8e9d7ca0bf9482c1...  \n",
       "1  [{'buyerId': 'f0a7a165a818a7c7b0773bdd158b75c4...  \n",
       "2  [{'buyerId': 'c55c9fdfe4c8f1dda3dc64be67d23eb1...  \n",
       "3  [{'buyerId': '54242d7fd6b86a032aeb68cfb3639026...  \n",
       "4  [{'buyerId': 'd5fd764377cb4c0b448a117671832299...  \n",
       "5  [{'buyerId': '6dce7ed95b2ff0bc420aa66c86c8bb54...  \n",
       "6  [{'buyerId': '0fbc1d223fbbb6459cdd74c5b131eb7b...  \n",
       "7  [{'buyerId': 'ac2fdb74000ec4ffdd016220c536d4bf...  \n",
       "8  [{'buyerId': 'f809686977c06165789a37a68932f830...  \n",
       "9  [{'buyerId': 'c7c431fe57e65688fb28b7cb53ce1d83...  "
      ]
     },
     "execution_count": 75,
     "metadata": {},
     "output_type": "execute_result"
    }
   ],
   "source": [
    "df_inv_result.head(10)"
   ]
  },
  {
   "cell_type": "code",
   "execution_count": 76,
   "id": "dde34f8e-e75d-4d7a-81c0-98c66f324f9d",
   "metadata": {
    "tags": []
   },
   "outputs": [],
   "source": [
    "df_inv_result.to_csv('s3://{}/{}'.format(bucket, 'investor_cosine_sim_result_top10.csv'))"
   ]
  },
  {
   "cell_type": "markdown",
   "id": "284b147f-285f-4377-895a-7ff1d2e2d7b5",
   "metadata": {},
   "source": [
    "INVESTORS - EUCLIDEAN"
   ]
  },
  {
   "cell_type": "code",
   "execution_count": 77,
   "id": "8b31a228-c33a-4126-87c1-04375679bee9",
   "metadata": {
    "tags": []
   },
   "outputs": [],
   "source": [
    "inv_eu_sim_matrix = euclidean_distances(df_investor)"
   ]
  },
  {
   "cell_type": "code",
   "execution_count": 78,
   "id": "df1caca5-e1c7-41ee-85fb-e06717f92f7e",
   "metadata": {
    "tags": []
   },
   "outputs": [],
   "source": [
    "inv_eu_sim = pd.DataFrame(inv_eu_sim_matrix, columns=df_investor.index, index=df_investor.index)"
   ]
  },
  {
   "cell_type": "code",
   "execution_count": 80,
   "id": "d8d761e8-ae59-4dbd-a681-22a5a6e46414",
   "metadata": {
    "tags": []
   },
   "outputs": [
    {
     "data": {
      "text/html": [
       "<div>\n",
       "<style scoped>\n",
       "    .dataframe tbody tr th:only-of-type {\n",
       "        vertical-align: middle;\n",
       "    }\n",
       "\n",
       "    .dataframe tbody tr th {\n",
       "        vertical-align: top;\n",
       "    }\n",
       "\n",
       "    .dataframe thead th {\n",
       "        text-align: right;\n",
       "    }\n",
       "</style>\n",
       "<table border=\"1\" class=\"dataframe\">\n",
       "  <thead>\n",
       "    <tr style=\"text-align: right;\">\n",
       "      <th>buyerId</th>\n",
       "      <th>00074b1019380cc21471e2a46825c1fe</th>\n",
       "      <th>0007fba1809a022de16900e96add9515</th>\n",
       "      <th>0015cc309601fe8731febcc98fc7f6c2</th>\n",
       "      <th>001a5216b4a83da8dd43f76628258482</th>\n",
       "      <th>001bcb3fd35ccd4829fe2ebc7caeb142</th>\n",
       "      <th>002332ae8a612bdc3fbf78c98815afe4</th>\n",
       "      <th>0028484c48ed26f0b73caef882961cab</th>\n",
       "      <th>002e8cf8b2ca3d11c32412359e745c9c</th>\n",
       "      <th>0036f3877643d85c8194950565bc3517</th>\n",
       "      <th>003fb17e4d126dbec5a293facbed2210</th>\n",
       "      <th>...</th>\n",
       "      <th>ffd680795a380a4c35e200aef3357d80</th>\n",
       "      <th>ffd78b241cd95c113cf294211df954a2</th>\n",
       "      <th>ffe6d9c4a1a4f3fc65f15e011ad05d02</th>\n",
       "      <th>ffe6e23923627b67888e38941ac06aad</th>\n",
       "      <th>ffeb0fd7120ff6033c6115aa191b5835</th>\n",
       "      <th>ffebf39a17d11d62989632ca21db8727</th>\n",
       "      <th>fff12327cbe35326fdbc477345b6af79</th>\n",
       "      <th>fff540d19e154474992853d62709846e</th>\n",
       "      <th>fff918f6975aeebb75ca4b64727bb989</th>\n",
       "      <th>fffa6b9a171611c1c04039318f81cdf6</th>\n",
       "    </tr>\n",
       "    <tr>\n",
       "      <th>buyerId</th>\n",
       "      <th></th>\n",
       "      <th></th>\n",
       "      <th></th>\n",
       "      <th></th>\n",
       "      <th></th>\n",
       "      <th></th>\n",
       "      <th></th>\n",
       "      <th></th>\n",
       "      <th></th>\n",
       "      <th></th>\n",
       "      <th></th>\n",
       "      <th></th>\n",
       "      <th></th>\n",
       "      <th></th>\n",
       "      <th></th>\n",
       "      <th></th>\n",
       "      <th></th>\n",
       "      <th></th>\n",
       "      <th></th>\n",
       "      <th></th>\n",
       "      <th></th>\n",
       "    </tr>\n",
       "  </thead>\n",
       "  <tbody>\n",
       "    <tr>\n",
       "      <th>00074b1019380cc21471e2a46825c1fe</th>\n",
       "      <td>0.000000</td>\n",
       "      <td>2.355197</td>\n",
       "      <td>2.280446</td>\n",
       "      <td>3.822196</td>\n",
       "      <td>2.070148</td>\n",
       "      <td>2.198707</td>\n",
       "      <td>2.230008</td>\n",
       "      <td>2.169062</td>\n",
       "      <td>2.627589</td>\n",
       "      <td>2.394941</td>\n",
       "      <td>...</td>\n",
       "      <td>2.275416</td>\n",
       "      <td>2.177321</td>\n",
       "      <td>3.019449</td>\n",
       "      <td>2.227193</td>\n",
       "      <td>2.263294</td>\n",
       "      <td>4.421440</td>\n",
       "      <td>2.215482</td>\n",
       "      <td>2.637708</td>\n",
       "      <td>4.761532</td>\n",
       "      <td>2.018453</td>\n",
       "    </tr>\n",
       "    <tr>\n",
       "      <th>0007fba1809a022de16900e96add9515</th>\n",
       "      <td>2.355197</td>\n",
       "      <td>0.000000</td>\n",
       "      <td>1.072386</td>\n",
       "      <td>3.597977</td>\n",
       "      <td>1.129288</td>\n",
       "      <td>1.401213</td>\n",
       "      <td>1.203402</td>\n",
       "      <td>1.291014</td>\n",
       "      <td>1.607827</td>\n",
       "      <td>0.887903</td>\n",
       "      <td>...</td>\n",
       "      <td>1.055669</td>\n",
       "      <td>0.964374</td>\n",
       "      <td>1.508388</td>\n",
       "      <td>1.059532</td>\n",
       "      <td>1.467868</td>\n",
       "      <td>4.386818</td>\n",
       "      <td>1.418436</td>\n",
       "      <td>2.068564</td>\n",
       "      <td>4.114677</td>\n",
       "      <td>0.890959</td>\n",
       "    </tr>\n",
       "    <tr>\n",
       "      <th>0015cc309601fe8731febcc98fc7f6c2</th>\n",
       "      <td>2.280446</td>\n",
       "      <td>1.072386</td>\n",
       "      <td>0.000000</td>\n",
       "      <td>4.026604</td>\n",
       "      <td>1.406589</td>\n",
       "      <td>1.741038</td>\n",
       "      <td>1.443648</td>\n",
       "      <td>1.644190</td>\n",
       "      <td>1.278845</td>\n",
       "      <td>0.661297</td>\n",
       "      <td>...</td>\n",
       "      <td>1.324935</td>\n",
       "      <td>0.854402</td>\n",
       "      <td>1.680519</td>\n",
       "      <td>0.362476</td>\n",
       "      <td>1.853797</td>\n",
       "      <td>4.773657</td>\n",
       "      <td>1.778171</td>\n",
       "      <td>2.433734</td>\n",
       "      <td>3.829742</td>\n",
       "      <td>0.926993</td>\n",
       "    </tr>\n",
       "    <tr>\n",
       "      <th>001a5216b4a83da8dd43f76628258482</th>\n",
       "      <td>3.822196</td>\n",
       "      <td>3.597977</td>\n",
       "      <td>4.026604</td>\n",
       "      <td>0.000000</td>\n",
       "      <td>2.691937</td>\n",
       "      <td>2.365278</td>\n",
       "      <td>2.683774</td>\n",
       "      <td>2.516504</td>\n",
       "      <td>3.990778</td>\n",
       "      <td>3.796206</td>\n",
       "      <td>...</td>\n",
       "      <td>2.857729</td>\n",
       "      <td>3.497994</td>\n",
       "      <td>3.252963</td>\n",
       "      <td>3.933893</td>\n",
       "      <td>2.324679</td>\n",
       "      <td>0.952640</td>\n",
       "      <td>2.360841</td>\n",
       "      <td>1.636214</td>\n",
       "      <td>5.148956</td>\n",
       "      <td>3.227419</td>\n",
       "    </tr>\n",
       "    <tr>\n",
       "      <th>001bcb3fd35ccd4829fe2ebc7caeb142</th>\n",
       "      <td>2.070148</td>\n",
       "      <td>1.129288</td>\n",
       "      <td>1.406589</td>\n",
       "      <td>2.691937</td>\n",
       "      <td>0.000000</td>\n",
       "      <td>0.350942</td>\n",
       "      <td>0.371219</td>\n",
       "      <td>0.290471</td>\n",
       "      <td>1.736608</td>\n",
       "      <td>1.208905</td>\n",
       "      <td>...</td>\n",
       "      <td>0.469771</td>\n",
       "      <td>0.879469</td>\n",
       "      <td>1.273703</td>\n",
       "      <td>1.310850</td>\n",
       "      <td>0.488467</td>\n",
       "      <td>3.479293</td>\n",
       "      <td>0.398331</td>\n",
       "      <td>1.148942</td>\n",
       "      <td>3.901911</td>\n",
       "      <td>0.597246</td>\n",
       "    </tr>\n",
       "    <tr>\n",
       "      <th>002332ae8a612bdc3fbf78c98815afe4</th>\n",
       "      <td>2.198707</td>\n",
       "      <td>1.401213</td>\n",
       "      <td>1.741038</td>\n",
       "      <td>2.365278</td>\n",
       "      <td>0.350942</td>\n",
       "      <td>0.000000</td>\n",
       "      <td>0.479733</td>\n",
       "      <td>0.190247</td>\n",
       "      <td>1.988730</td>\n",
       "      <td>1.514250</td>\n",
       "      <td>...</td>\n",
       "      <td>0.643629</td>\n",
       "      <td>1.161651</td>\n",
       "      <td>1.333162</td>\n",
       "      <td>1.633773</td>\n",
       "      <td>0.215054</td>\n",
       "      <td>3.171533</td>\n",
       "      <td>0.110483</td>\n",
       "      <td>0.882328</td>\n",
       "      <td>3.950951</td>\n",
       "      <td>0.907872</td>\n",
       "    </tr>\n",
       "    <tr>\n",
       "      <th>0028484c48ed26f0b73caef882961cab</th>\n",
       "      <td>2.230008</td>\n",
       "      <td>1.203402</td>\n",
       "      <td>1.443648</td>\n",
       "      <td>2.683774</td>\n",
       "      <td>0.371219</td>\n",
       "      <td>0.479733</td>\n",
       "      <td>0.000000</td>\n",
       "      <td>0.495586</td>\n",
       "      <td>1.848274</td>\n",
       "      <td>1.141974</td>\n",
       "      <td>...</td>\n",
       "      <td>0.254562</td>\n",
       "      <td>0.894698</td>\n",
       "      <td>1.230873</td>\n",
       "      <td>1.290048</td>\n",
       "      <td>0.652824</td>\n",
       "      <td>3.450677</td>\n",
       "      <td>0.536683</td>\n",
       "      <td>1.157925</td>\n",
       "      <td>3.711733</td>\n",
       "      <td>0.576610</td>\n",
       "    </tr>\n",
       "    <tr>\n",
       "      <th>002e8cf8b2ca3d11c32412359e745c9c</th>\n",
       "      <td>2.169062</td>\n",
       "      <td>1.291014</td>\n",
       "      <td>1.644190</td>\n",
       "      <td>2.516504</td>\n",
       "      <td>0.290471</td>\n",
       "      <td>0.190247</td>\n",
       "      <td>0.495586</td>\n",
       "      <td>0.000000</td>\n",
       "      <td>1.932277</td>\n",
       "      <td>1.419252</td>\n",
       "      <td>...</td>\n",
       "      <td>0.611907</td>\n",
       "      <td>1.033862</td>\n",
       "      <td>1.234229</td>\n",
       "      <td>1.535044</td>\n",
       "      <td>0.219513</td>\n",
       "      <td>3.334013</td>\n",
       "      <td>0.165526</td>\n",
       "      <td>1.058339</td>\n",
       "      <td>3.943090</td>\n",
       "      <td>0.823850</td>\n",
       "    </tr>\n",
       "    <tr>\n",
       "      <th>0036f3877643d85c8194950565bc3517</th>\n",
       "      <td>2.627589</td>\n",
       "      <td>1.607827</td>\n",
       "      <td>1.278845</td>\n",
       "      <td>3.990778</td>\n",
       "      <td>1.736608</td>\n",
       "      <td>1.988730</td>\n",
       "      <td>1.848274</td>\n",
       "      <td>1.932277</td>\n",
       "      <td>0.000000</td>\n",
       "      <td>1.476512</td>\n",
       "      <td>...</td>\n",
       "      <td>1.775669</td>\n",
       "      <td>1.513507</td>\n",
       "      <td>1.927230</td>\n",
       "      <td>1.492228</td>\n",
       "      <td>2.088906</td>\n",
       "      <td>4.716993</td>\n",
       "      <td>2.046667</td>\n",
       "      <td>2.470584</td>\n",
       "      <td>4.394512</td>\n",
       "      <td>1.549443</td>\n",
       "    </tr>\n",
       "    <tr>\n",
       "      <th>003fb17e4d126dbec5a293facbed2210</th>\n",
       "      <td>2.394941</td>\n",
       "      <td>0.887903</td>\n",
       "      <td>0.661297</td>\n",
       "      <td>3.796206</td>\n",
       "      <td>1.208905</td>\n",
       "      <td>1.514250</td>\n",
       "      <td>1.141974</td>\n",
       "      <td>1.419252</td>\n",
       "      <td>1.476512</td>\n",
       "      <td>0.000000</td>\n",
       "      <td>...</td>\n",
       "      <td>0.966670</td>\n",
       "      <td>0.605977</td>\n",
       "      <td>1.375543</td>\n",
       "      <td>0.472777</td>\n",
       "      <td>1.629902</td>\n",
       "      <td>4.558222</td>\n",
       "      <td>1.544779</td>\n",
       "      <td>2.235199</td>\n",
       "      <td>3.731315</td>\n",
       "      <td>0.668045</td>\n",
       "    </tr>\n",
       "  </tbody>\n",
       "</table>\n",
       "<p>10 rows × 17650 columns</p>\n",
       "</div>"
      ],
      "text/plain": [
       "buyerId                           00074b1019380cc21471e2a46825c1fe  \\\n",
       "buyerId                                                              \n",
       "00074b1019380cc21471e2a46825c1fe                          0.000000   \n",
       "0007fba1809a022de16900e96add9515                          2.355197   \n",
       "0015cc309601fe8731febcc98fc7f6c2                          2.280446   \n",
       "001a5216b4a83da8dd43f76628258482                          3.822196   \n",
       "001bcb3fd35ccd4829fe2ebc7caeb142                          2.070148   \n",
       "002332ae8a612bdc3fbf78c98815afe4                          2.198707   \n",
       "0028484c48ed26f0b73caef882961cab                          2.230008   \n",
       "002e8cf8b2ca3d11c32412359e745c9c                          2.169062   \n",
       "0036f3877643d85c8194950565bc3517                          2.627589   \n",
       "003fb17e4d126dbec5a293facbed2210                          2.394941   \n",
       "\n",
       "buyerId                           0007fba1809a022de16900e96add9515  \\\n",
       "buyerId                                                              \n",
       "00074b1019380cc21471e2a46825c1fe                          2.355197   \n",
       "0007fba1809a022de16900e96add9515                          0.000000   \n",
       "0015cc309601fe8731febcc98fc7f6c2                          1.072386   \n",
       "001a5216b4a83da8dd43f76628258482                          3.597977   \n",
       "001bcb3fd35ccd4829fe2ebc7caeb142                          1.129288   \n",
       "002332ae8a612bdc3fbf78c98815afe4                          1.401213   \n",
       "0028484c48ed26f0b73caef882961cab                          1.203402   \n",
       "002e8cf8b2ca3d11c32412359e745c9c                          1.291014   \n",
       "0036f3877643d85c8194950565bc3517                          1.607827   \n",
       "003fb17e4d126dbec5a293facbed2210                          0.887903   \n",
       "\n",
       "buyerId                           0015cc309601fe8731febcc98fc7f6c2  \\\n",
       "buyerId                                                              \n",
       "00074b1019380cc21471e2a46825c1fe                          2.280446   \n",
       "0007fba1809a022de16900e96add9515                          1.072386   \n",
       "0015cc309601fe8731febcc98fc7f6c2                          0.000000   \n",
       "001a5216b4a83da8dd43f76628258482                          4.026604   \n",
       "001bcb3fd35ccd4829fe2ebc7caeb142                          1.406589   \n",
       "002332ae8a612bdc3fbf78c98815afe4                          1.741038   \n",
       "0028484c48ed26f0b73caef882961cab                          1.443648   \n",
       "002e8cf8b2ca3d11c32412359e745c9c                          1.644190   \n",
       "0036f3877643d85c8194950565bc3517                          1.278845   \n",
       "003fb17e4d126dbec5a293facbed2210                          0.661297   \n",
       "\n",
       "buyerId                           001a5216b4a83da8dd43f76628258482  \\\n",
       "buyerId                                                              \n",
       "00074b1019380cc21471e2a46825c1fe                          3.822196   \n",
       "0007fba1809a022de16900e96add9515                          3.597977   \n",
       "0015cc309601fe8731febcc98fc7f6c2                          4.026604   \n",
       "001a5216b4a83da8dd43f76628258482                          0.000000   \n",
       "001bcb3fd35ccd4829fe2ebc7caeb142                          2.691937   \n",
       "002332ae8a612bdc3fbf78c98815afe4                          2.365278   \n",
       "0028484c48ed26f0b73caef882961cab                          2.683774   \n",
       "002e8cf8b2ca3d11c32412359e745c9c                          2.516504   \n",
       "0036f3877643d85c8194950565bc3517                          3.990778   \n",
       "003fb17e4d126dbec5a293facbed2210                          3.796206   \n",
       "\n",
       "buyerId                           001bcb3fd35ccd4829fe2ebc7caeb142  \\\n",
       "buyerId                                                              \n",
       "00074b1019380cc21471e2a46825c1fe                          2.070148   \n",
       "0007fba1809a022de16900e96add9515                          1.129288   \n",
       "0015cc309601fe8731febcc98fc7f6c2                          1.406589   \n",
       "001a5216b4a83da8dd43f76628258482                          2.691937   \n",
       "001bcb3fd35ccd4829fe2ebc7caeb142                          0.000000   \n",
       "002332ae8a612bdc3fbf78c98815afe4                          0.350942   \n",
       "0028484c48ed26f0b73caef882961cab                          0.371219   \n",
       "002e8cf8b2ca3d11c32412359e745c9c                          0.290471   \n",
       "0036f3877643d85c8194950565bc3517                          1.736608   \n",
       "003fb17e4d126dbec5a293facbed2210                          1.208905   \n",
       "\n",
       "buyerId                           002332ae8a612bdc3fbf78c98815afe4  \\\n",
       "buyerId                                                              \n",
       "00074b1019380cc21471e2a46825c1fe                          2.198707   \n",
       "0007fba1809a022de16900e96add9515                          1.401213   \n",
       "0015cc309601fe8731febcc98fc7f6c2                          1.741038   \n",
       "001a5216b4a83da8dd43f76628258482                          2.365278   \n",
       "001bcb3fd35ccd4829fe2ebc7caeb142                          0.350942   \n",
       "002332ae8a612bdc3fbf78c98815afe4                          0.000000   \n",
       "0028484c48ed26f0b73caef882961cab                          0.479733   \n",
       "002e8cf8b2ca3d11c32412359e745c9c                          0.190247   \n",
       "0036f3877643d85c8194950565bc3517                          1.988730   \n",
       "003fb17e4d126dbec5a293facbed2210                          1.514250   \n",
       "\n",
       "buyerId                           0028484c48ed26f0b73caef882961cab  \\\n",
       "buyerId                                                              \n",
       "00074b1019380cc21471e2a46825c1fe                          2.230008   \n",
       "0007fba1809a022de16900e96add9515                          1.203402   \n",
       "0015cc309601fe8731febcc98fc7f6c2                          1.443648   \n",
       "001a5216b4a83da8dd43f76628258482                          2.683774   \n",
       "001bcb3fd35ccd4829fe2ebc7caeb142                          0.371219   \n",
       "002332ae8a612bdc3fbf78c98815afe4                          0.479733   \n",
       "0028484c48ed26f0b73caef882961cab                          0.000000   \n",
       "002e8cf8b2ca3d11c32412359e745c9c                          0.495586   \n",
       "0036f3877643d85c8194950565bc3517                          1.848274   \n",
       "003fb17e4d126dbec5a293facbed2210                          1.141974   \n",
       "\n",
       "buyerId                           002e8cf8b2ca3d11c32412359e745c9c  \\\n",
       "buyerId                                                              \n",
       "00074b1019380cc21471e2a46825c1fe                          2.169062   \n",
       "0007fba1809a022de16900e96add9515                          1.291014   \n",
       "0015cc309601fe8731febcc98fc7f6c2                          1.644190   \n",
       "001a5216b4a83da8dd43f76628258482                          2.516504   \n",
       "001bcb3fd35ccd4829fe2ebc7caeb142                          0.290471   \n",
       "002332ae8a612bdc3fbf78c98815afe4                          0.190247   \n",
       "0028484c48ed26f0b73caef882961cab                          0.495586   \n",
       "002e8cf8b2ca3d11c32412359e745c9c                          0.000000   \n",
       "0036f3877643d85c8194950565bc3517                          1.932277   \n",
       "003fb17e4d126dbec5a293facbed2210                          1.419252   \n",
       "\n",
       "buyerId                           0036f3877643d85c8194950565bc3517  \\\n",
       "buyerId                                                              \n",
       "00074b1019380cc21471e2a46825c1fe                          2.627589   \n",
       "0007fba1809a022de16900e96add9515                          1.607827   \n",
       "0015cc309601fe8731febcc98fc7f6c2                          1.278845   \n",
       "001a5216b4a83da8dd43f76628258482                          3.990778   \n",
       "001bcb3fd35ccd4829fe2ebc7caeb142                          1.736608   \n",
       "002332ae8a612bdc3fbf78c98815afe4                          1.988730   \n",
       "0028484c48ed26f0b73caef882961cab                          1.848274   \n",
       "002e8cf8b2ca3d11c32412359e745c9c                          1.932277   \n",
       "0036f3877643d85c8194950565bc3517                          0.000000   \n",
       "003fb17e4d126dbec5a293facbed2210                          1.476512   \n",
       "\n",
       "buyerId                           003fb17e4d126dbec5a293facbed2210  ...  \\\n",
       "buyerId                                                             ...   \n",
       "00074b1019380cc21471e2a46825c1fe                          2.394941  ...   \n",
       "0007fba1809a022de16900e96add9515                          0.887903  ...   \n",
       "0015cc309601fe8731febcc98fc7f6c2                          0.661297  ...   \n",
       "001a5216b4a83da8dd43f76628258482                          3.796206  ...   \n",
       "001bcb3fd35ccd4829fe2ebc7caeb142                          1.208905  ...   \n",
       "002332ae8a612bdc3fbf78c98815afe4                          1.514250  ...   \n",
       "0028484c48ed26f0b73caef882961cab                          1.141974  ...   \n",
       "002e8cf8b2ca3d11c32412359e745c9c                          1.419252  ...   \n",
       "0036f3877643d85c8194950565bc3517                          1.476512  ...   \n",
       "003fb17e4d126dbec5a293facbed2210                          0.000000  ...   \n",
       "\n",
       "buyerId                           ffd680795a380a4c35e200aef3357d80  \\\n",
       "buyerId                                                              \n",
       "00074b1019380cc21471e2a46825c1fe                          2.275416   \n",
       "0007fba1809a022de16900e96add9515                          1.055669   \n",
       "0015cc309601fe8731febcc98fc7f6c2                          1.324935   \n",
       "001a5216b4a83da8dd43f76628258482                          2.857729   \n",
       "001bcb3fd35ccd4829fe2ebc7caeb142                          0.469771   \n",
       "002332ae8a612bdc3fbf78c98815afe4                          0.643629   \n",
       "0028484c48ed26f0b73caef882961cab                          0.254562   \n",
       "002e8cf8b2ca3d11c32412359e745c9c                          0.611907   \n",
       "0036f3877643d85c8194950565bc3517                          1.775669   \n",
       "003fb17e4d126dbec5a293facbed2210                          0.966670   \n",
       "\n",
       "buyerId                           ffd78b241cd95c113cf294211df954a2  \\\n",
       "buyerId                                                              \n",
       "00074b1019380cc21471e2a46825c1fe                          2.177321   \n",
       "0007fba1809a022de16900e96add9515                          0.964374   \n",
       "0015cc309601fe8731febcc98fc7f6c2                          0.854402   \n",
       "001a5216b4a83da8dd43f76628258482                          3.497994   \n",
       "001bcb3fd35ccd4829fe2ebc7caeb142                          0.879469   \n",
       "002332ae8a612bdc3fbf78c98815afe4                          1.161651   \n",
       "0028484c48ed26f0b73caef882961cab                          0.894698   \n",
       "002e8cf8b2ca3d11c32412359e745c9c                          1.033862   \n",
       "0036f3877643d85c8194950565bc3517                          1.513507   \n",
       "003fb17e4d126dbec5a293facbed2210                          0.605977   \n",
       "\n",
       "buyerId                           ffe6d9c4a1a4f3fc65f15e011ad05d02  \\\n",
       "buyerId                                                              \n",
       "00074b1019380cc21471e2a46825c1fe                          3.019449   \n",
       "0007fba1809a022de16900e96add9515                          1.508388   \n",
       "0015cc309601fe8731febcc98fc7f6c2                          1.680519   \n",
       "001a5216b4a83da8dd43f76628258482                          3.252963   \n",
       "001bcb3fd35ccd4829fe2ebc7caeb142                          1.273703   \n",
       "002332ae8a612bdc3fbf78c98815afe4                          1.333162   \n",
       "0028484c48ed26f0b73caef882961cab                          1.230873   \n",
       "002e8cf8b2ca3d11c32412359e745c9c                          1.234229   \n",
       "0036f3877643d85c8194950565bc3517                          1.927230   \n",
       "003fb17e4d126dbec5a293facbed2210                          1.375543   \n",
       "\n",
       "buyerId                           ffe6e23923627b67888e38941ac06aad  \\\n",
       "buyerId                                                              \n",
       "00074b1019380cc21471e2a46825c1fe                          2.227193   \n",
       "0007fba1809a022de16900e96add9515                          1.059532   \n",
       "0015cc309601fe8731febcc98fc7f6c2                          0.362476   \n",
       "001a5216b4a83da8dd43f76628258482                          3.933893   \n",
       "001bcb3fd35ccd4829fe2ebc7caeb142                          1.310850   \n",
       "002332ae8a612bdc3fbf78c98815afe4                          1.633773   \n",
       "0028484c48ed26f0b73caef882961cab                          1.290048   \n",
       "002e8cf8b2ca3d11c32412359e745c9c                          1.535044   \n",
       "0036f3877643d85c8194950565bc3517                          1.492228   \n",
       "003fb17e4d126dbec5a293facbed2210                          0.472777   \n",
       "\n",
       "buyerId                           ffeb0fd7120ff6033c6115aa191b5835  \\\n",
       "buyerId                                                              \n",
       "00074b1019380cc21471e2a46825c1fe                          2.263294   \n",
       "0007fba1809a022de16900e96add9515                          1.467868   \n",
       "0015cc309601fe8731febcc98fc7f6c2                          1.853797   \n",
       "001a5216b4a83da8dd43f76628258482                          2.324679   \n",
       "001bcb3fd35ccd4829fe2ebc7caeb142                          0.488467   \n",
       "002332ae8a612bdc3fbf78c98815afe4                          0.215054   \n",
       "0028484c48ed26f0b73caef882961cab                          0.652824   \n",
       "002e8cf8b2ca3d11c32412359e745c9c                          0.219513   \n",
       "0036f3877643d85c8194950565bc3517                          2.088906   \n",
       "003fb17e4d126dbec5a293facbed2210                          1.629902   \n",
       "\n",
       "buyerId                           ffebf39a17d11d62989632ca21db8727  \\\n",
       "buyerId                                                              \n",
       "00074b1019380cc21471e2a46825c1fe                          4.421440   \n",
       "0007fba1809a022de16900e96add9515                          4.386818   \n",
       "0015cc309601fe8731febcc98fc7f6c2                          4.773657   \n",
       "001a5216b4a83da8dd43f76628258482                          0.952640   \n",
       "001bcb3fd35ccd4829fe2ebc7caeb142                          3.479293   \n",
       "002332ae8a612bdc3fbf78c98815afe4                          3.171533   \n",
       "0028484c48ed26f0b73caef882961cab                          3.450677   \n",
       "002e8cf8b2ca3d11c32412359e745c9c                          3.334013   \n",
       "0036f3877643d85c8194950565bc3517                          4.716993   \n",
       "003fb17e4d126dbec5a293facbed2210                          4.558222   \n",
       "\n",
       "buyerId                           fff12327cbe35326fdbc477345b6af79  \\\n",
       "buyerId                                                              \n",
       "00074b1019380cc21471e2a46825c1fe                          2.215482   \n",
       "0007fba1809a022de16900e96add9515                          1.418436   \n",
       "0015cc309601fe8731febcc98fc7f6c2                          1.778171   \n",
       "001a5216b4a83da8dd43f76628258482                          2.360841   \n",
       "001bcb3fd35ccd4829fe2ebc7caeb142                          0.398331   \n",
       "002332ae8a612bdc3fbf78c98815afe4                          0.110483   \n",
       "0028484c48ed26f0b73caef882961cab                          0.536683   \n",
       "002e8cf8b2ca3d11c32412359e745c9c                          0.165526   \n",
       "0036f3877643d85c8194950565bc3517                          2.046667   \n",
       "003fb17e4d126dbec5a293facbed2210                          1.544779   \n",
       "\n",
       "buyerId                           fff540d19e154474992853d62709846e  \\\n",
       "buyerId                                                              \n",
       "00074b1019380cc21471e2a46825c1fe                          2.637708   \n",
       "0007fba1809a022de16900e96add9515                          2.068564   \n",
       "0015cc309601fe8731febcc98fc7f6c2                          2.433734   \n",
       "001a5216b4a83da8dd43f76628258482                          1.636214   \n",
       "001bcb3fd35ccd4829fe2ebc7caeb142                          1.148942   \n",
       "002332ae8a612bdc3fbf78c98815afe4                          0.882328   \n",
       "0028484c48ed26f0b73caef882961cab                          1.157925   \n",
       "002e8cf8b2ca3d11c32412359e745c9c                          1.058339   \n",
       "0036f3877643d85c8194950565bc3517                          2.470584   \n",
       "003fb17e4d126dbec5a293facbed2210                          2.235199   \n",
       "\n",
       "buyerId                           fff918f6975aeebb75ca4b64727bb989  \\\n",
       "buyerId                                                              \n",
       "00074b1019380cc21471e2a46825c1fe                          4.761532   \n",
       "0007fba1809a022de16900e96add9515                          4.114677   \n",
       "0015cc309601fe8731febcc98fc7f6c2                          3.829742   \n",
       "001a5216b4a83da8dd43f76628258482                          5.148956   \n",
       "001bcb3fd35ccd4829fe2ebc7caeb142                          3.901911   \n",
       "002332ae8a612bdc3fbf78c98815afe4                          3.950951   \n",
       "0028484c48ed26f0b73caef882961cab                          3.711733   \n",
       "002e8cf8b2ca3d11c32412359e745c9c                          3.943090   \n",
       "0036f3877643d85c8194950565bc3517                          4.394512   \n",
       "003fb17e4d126dbec5a293facbed2210                          3.731315   \n",
       "\n",
       "buyerId                           fffa6b9a171611c1c04039318f81cdf6  \n",
       "buyerId                                                             \n",
       "00074b1019380cc21471e2a46825c1fe                          2.018453  \n",
       "0007fba1809a022de16900e96add9515                          0.890959  \n",
       "0015cc309601fe8731febcc98fc7f6c2                          0.926993  \n",
       "001a5216b4a83da8dd43f76628258482                          3.227419  \n",
       "001bcb3fd35ccd4829fe2ebc7caeb142                          0.597246  \n",
       "002332ae8a612bdc3fbf78c98815afe4                          0.907872  \n",
       "0028484c48ed26f0b73caef882961cab                          0.576610  \n",
       "002e8cf8b2ca3d11c32412359e745c9c                          0.823850  \n",
       "0036f3877643d85c8194950565bc3517                          1.549443  \n",
       "003fb17e4d126dbec5a293facbed2210                          0.668045  \n",
       "\n",
       "[10 rows x 17650 columns]"
      ]
     },
     "execution_count": 80,
     "metadata": {},
     "output_type": "execute_result"
    }
   ],
   "source": [
    "inv_eu_sim.head(10)"
   ]
  },
  {
   "cell_type": "code",
   "execution_count": 81,
   "id": "43613a9f-8762-490c-bc18-e72d3eca221d",
   "metadata": {
    "tags": []
   },
   "outputs": [],
   "source": [
    "# inv_eu_sim['00074b1019380cc21471e2a46825c1fe'].sort_values(ascending=True).head(6)"
   ]
  },
  {
   "cell_type": "code",
   "execution_count": 82,
   "id": "4f0af632-16f9-434f-822c-a9b0fd60e28d",
   "metadata": {
    "tags": []
   },
   "outputs": [],
   "source": [
    "# test_sim = inv_eu_sim['00074b1019380cc21471e2a46825c1fe'].reset_index()"
   ]
  },
  {
   "cell_type": "code",
   "execution_count": 83,
   "id": "95df0328-0ac5-4532-8aab-adde55fc491d",
   "metadata": {
    "tags": []
   },
   "outputs": [],
   "source": [
    "# test_sim_df = pd.DataFrame(test_sim)"
   ]
  },
  {
   "cell_type": "code",
   "execution_count": 84,
   "id": "a70ec607-17c2-41ef-895e-2bc5d0d5a448",
   "metadata": {
    "tags": []
   },
   "outputs": [],
   "source": [
    "# test_min = min(test_sim_df['00074b1019380cc21471e2a46825c1fe'])\n",
    "# test_max = max(test_sim_df['00074b1019380cc21471e2a46825c1fe'])"
   ]
  },
  {
   "cell_type": "code",
   "execution_count": 85,
   "id": "3b165ea0-8f1a-43fe-a451-ee4290d44c63",
   "metadata": {
    "tags": []
   },
   "outputs": [],
   "source": [
    "# test_sim_df['norm'] = (test_sim_df['00074b1019380cc21471e2a46825c1fe'] - test_min) / (test_max - test_min)"
   ]
  },
  {
   "cell_type": "code",
   "execution_count": 86,
   "id": "15087f33-f51e-443a-becd-dbc348a0326b",
   "metadata": {
    "tags": []
   },
   "outputs": [],
   "source": [
    "# test_sim_df['similarity'] = 1 - test_sim_df['norm']"
   ]
  },
  {
   "cell_type": "code",
   "execution_count": 87,
   "id": "03d52086-b63d-4749-96a0-676f6246221f",
   "metadata": {
    "tags": []
   },
   "outputs": [],
   "source": [
    "# test_sim_df.sort_values(by='similarity',ascending=False).head(6)"
   ]
  },
  {
   "cell_type": "code",
   "execution_count": 88,
   "id": "eeda0356-354b-408b-a911-bb04a6ed7a6c",
   "metadata": {
    "tags": []
   },
   "outputs": [],
   "source": [
    "inv_eu_result = {'buyerId':[], 'recs':[]}\n",
    "\n",
    "for idx, row in inv_eu_sim.iterrows():\n",
    "    data = inv_eu_sim[idx].sort_values(ascending=True).reset_index(name='euclidean_distance').head(11).tail(10).to_dict('records')\n",
    "    inv_eu_result['buyerId'].append(idx)\n",
    "    inv_eu_result['recs'].append(data)"
   ]
  },
  {
   "cell_type": "code",
   "execution_count": 89,
   "id": "7199c778-4485-43c2-997b-16aac030dd87",
   "metadata": {
    "tags": []
   },
   "outputs": [],
   "source": [
    "df_inv_eu_result = pd.DataFrame(inv_eu_result)"
   ]
  },
  {
   "cell_type": "code",
   "execution_count": 90,
   "id": "4a8eb178-e72c-4820-b011-ef5b51d48806",
   "metadata": {
    "tags": []
   },
   "outputs": [
    {
     "data": {
      "text/html": [
       "<div>\n",
       "<style scoped>\n",
       "    .dataframe tbody tr th:only-of-type {\n",
       "        vertical-align: middle;\n",
       "    }\n",
       "\n",
       "    .dataframe tbody tr th {\n",
       "        vertical-align: top;\n",
       "    }\n",
       "\n",
       "    .dataframe thead th {\n",
       "        text-align: right;\n",
       "    }\n",
       "</style>\n",
       "<table border=\"1\" class=\"dataframe\">\n",
       "  <thead>\n",
       "    <tr style=\"text-align: right;\">\n",
       "      <th></th>\n",
       "      <th>buyerId</th>\n",
       "      <th>recs</th>\n",
       "    </tr>\n",
       "  </thead>\n",
       "  <tbody>\n",
       "    <tr>\n",
       "      <th>0</th>\n",
       "      <td>00074b1019380cc21471e2a46825c1fe</td>\n",
       "      <td>[{'buyerId': '137dbc2ce89537f1ed1a2354d7ee55b8...</td>\n",
       "    </tr>\n",
       "    <tr>\n",
       "      <th>1</th>\n",
       "      <td>0007fba1809a022de16900e96add9515</td>\n",
       "      <td>[{'buyerId': 'b271250149da9a9e28d8b9607b82cf04...</td>\n",
       "    </tr>\n",
       "    <tr>\n",
       "      <th>2</th>\n",
       "      <td>0015cc309601fe8731febcc98fc7f6c2</td>\n",
       "      <td>[{'buyerId': '8b875f3af020a56a637278489ba409bc...</td>\n",
       "    </tr>\n",
       "    <tr>\n",
       "      <th>3</th>\n",
       "      <td>001a5216b4a83da8dd43f76628258482</td>\n",
       "      <td>[{'buyerId': '54242d7fd6b86a032aeb68cfb3639026...</td>\n",
       "    </tr>\n",
       "    <tr>\n",
       "      <th>4</th>\n",
       "      <td>001bcb3fd35ccd4829fe2ebc7caeb142</td>\n",
       "      <td>[{'buyerId': '40bd82f2ce5181169530fad621e7a0aa...</td>\n",
       "    </tr>\n",
       "  </tbody>\n",
       "</table>\n",
       "</div>"
      ],
      "text/plain": [
       "                            buyerId  \\\n",
       "0  00074b1019380cc21471e2a46825c1fe   \n",
       "1  0007fba1809a022de16900e96add9515   \n",
       "2  0015cc309601fe8731febcc98fc7f6c2   \n",
       "3  001a5216b4a83da8dd43f76628258482   \n",
       "4  001bcb3fd35ccd4829fe2ebc7caeb142   \n",
       "\n",
       "                                                recs  \n",
       "0  [{'buyerId': '137dbc2ce89537f1ed1a2354d7ee55b8...  \n",
       "1  [{'buyerId': 'b271250149da9a9e28d8b9607b82cf04...  \n",
       "2  [{'buyerId': '8b875f3af020a56a637278489ba409bc...  \n",
       "3  [{'buyerId': '54242d7fd6b86a032aeb68cfb3639026...  \n",
       "4  [{'buyerId': '40bd82f2ce5181169530fad621e7a0aa...  "
      ]
     },
     "execution_count": 90,
     "metadata": {},
     "output_type": "execute_result"
    }
   ],
   "source": [
    "df_inv_eu_result.head()"
   ]
  },
  {
   "cell_type": "code",
   "execution_count": 91,
   "id": "d8c9a7cd-c29b-480f-997c-a1851cf8af02",
   "metadata": {
    "tags": []
   },
   "outputs": [],
   "source": [
    "df_inv_eu_result.to_csv('s3://{}/{}'.format(bucket, 'investor_euclidean_sim_result_top10.csv'))"
   ]
  },
  {
   "cell_type": "code",
   "execution_count": null,
   "id": "f792bd86-5f2b-4761-8cd2-651fa8f16cf6",
   "metadata": {},
   "outputs": [],
   "source": []
  }
 ],
 "metadata": {
  "instance_type": "ml.g4dn.2xlarge",
  "kernelspec": {
   "display_name": "Python 3 (Data Science)",
   "language": "python",
   "name": "python3__SAGEMAKER_INTERNAL__arn:aws:sagemaker:us-east-1:081325390199:image/datascience-1.0"
  },
  "language_info": {
   "codemirror_mode": {
    "name": "ipython",
    "version": 3
   },
   "file_extension": ".py",
   "mimetype": "text/x-python",
   "name": "python",
   "nbconvert_exporter": "python",
   "pygments_lexer": "ipython3",
   "version": "3.7.10"
  }
 },
 "nbformat": 4,
 "nbformat_minor": 5
}
